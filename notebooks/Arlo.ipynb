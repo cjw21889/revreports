{
 "cells": [
  {
   "cell_type": "code",
   "execution_count": 10,
   "metadata": {
    "ExecuteTime": {
     "end_time": "2020-11-27T12:14:57.874254Z",
     "start_time": "2020-11-27T12:14:57.255208Z"
    }
   },
   "outputs": [],
   "source": [
    "# /Users/chriswesterman/Library/Jupyter/nbextensions/snippets\n",
    "import pandas as pd\n",
    "import numpy as np\n",
    "import matplotlib.pyplot as plt\n",
    "import seaborn as sns\n",
    "pd.set_option('display.max_columns', 50)"
   ]
  },
  {
   "cell_type": "markdown",
   "metadata": {},
   "source": [
    "# Data Manipulation "
   ]
  },
  {
   "cell_type": "markdown",
   "metadata": {
    "heading_collapsed": true
   },
   "source": [
    "## Segment Stat "
   ]
  },
  {
   "cell_type": "code",
   "execution_count": 83,
   "metadata": {
    "ExecuteTime": {
     "end_time": "2020-11-25T15:33:56.962368Z",
     "start_time": "2020-11-25T15:33:56.951570Z"
    },
    "hidden": true
   },
   "outputs": [],
   "source": [
    "df1 = pd.read_csv('../revreports/data/11_23_20/segment_stat.txt', sep=\"\\t\", \n",
    "                usecols=['GRP2_CODE', 'ROOMS_DAY', 'ROOM_REV_DAY'], engine='python', skipfooter=2)\n",
    "df1.columns = ['Code', 'Res', 'Rev']\n",
    "\n",
    "df2 = pd.read_csv('../revreports/data/11_24_20/segment_stat.txt', sep=\"\\t\", engine='python', skipfooter=2,\n",
    "                 usecols=['GRP2_CODE', 'ROOMS_DAY', 'ROOM_REV_DAY'])\n",
    "df2.columns = ['Code', 'Res', 'Rev']"
   ]
  },
  {
   "cell_type": "code",
   "execution_count": 84,
   "metadata": {
    "ExecuteTime": {
     "end_time": "2020-11-25T15:33:58.083878Z",
     "start_time": "2020-11-25T15:33:58.080145Z"
    },
    "hidden": true
   },
   "outputs": [],
   "source": [
    "df1['Date'] = '11/22/20'\n",
    "df2['Date'] = '11/23/20'"
   ]
  },
  {
   "cell_type": "code",
   "execution_count": 71,
   "metadata": {
    "ExecuteTime": {
     "end_time": "2020-11-25T15:22:37.902814Z",
     "start_time": "2020-11-25T15:22:37.882404Z"
    },
    "hidden": true
   },
   "outputs": [
    {
     "data": {
      "text/html": [
       "<div>\n",
       "<style scoped>\n",
       "    .dataframe tbody tr th:only-of-type {\n",
       "        vertical-align: middle;\n",
       "    }\n",
       "\n",
       "    .dataframe tbody tr th {\n",
       "        vertical-align: top;\n",
       "    }\n",
       "\n",
       "    .dataframe thead th {\n",
       "        text-align: right;\n",
       "    }\n",
       "</style>\n",
       "<table border=\"1\" class=\"dataframe\">\n",
       "  <thead>\n",
       "    <tr style=\"text-align: right;\">\n",
       "      <th></th>\n",
       "      <th>Date</th>\n",
       "      <th>Code</th>\n",
       "      <th>Res</th>\n",
       "      <th>Rev</th>\n",
       "    </tr>\n",
       "  </thead>\n",
       "  <tbody>\n",
       "    <tr>\n",
       "      <th>0</th>\n",
       "      <td>11/22/20</td>\n",
       "      <td>AR</td>\n",
       "      <td>0</td>\n",
       "      <td>0.0</td>\n",
       "    </tr>\n",
       "    <tr>\n",
       "      <th>1</th>\n",
       "      <td>11/22/20</td>\n",
       "      <td>CO</td>\n",
       "      <td>0</td>\n",
       "      <td>0.0</td>\n",
       "    </tr>\n",
       "    <tr>\n",
       "      <th>2</th>\n",
       "      <td>11/22/20</td>\n",
       "      <td>CS</td>\n",
       "      <td>0</td>\n",
       "      <td>0.0</td>\n",
       "    </tr>\n",
       "    <tr>\n",
       "      <th>3</th>\n",
       "      <td>11/22/20</td>\n",
       "      <td>CT</td>\n",
       "      <td>0</td>\n",
       "      <td>0.0</td>\n",
       "    </tr>\n",
       "    <tr>\n",
       "      <th>4</th>\n",
       "      <td>11/22/20</td>\n",
       "      <td>FIX</td>\n",
       "      <td>0</td>\n",
       "      <td>0.0</td>\n",
       "    </tr>\n",
       "  </tbody>\n",
       "</table>\n",
       "</div>"
      ],
      "text/plain": [
       "       Date Code  Res  Rev\n",
       "0  11/22/20   AR    0  0.0\n",
       "1  11/22/20   CO    0  0.0\n",
       "2  11/22/20   CS    0  0.0\n",
       "3  11/22/20   CT    0  0.0\n",
       "4  11/22/20  FIX    0  0.0"
      ]
     },
     "execution_count": 71,
     "metadata": {},
     "output_type": "execute_result"
    }
   ],
   "source": [
    "# turn into data table\n",
    "# df1 = df1.set_index(['Date','Code']).unstack().swaplevel(0,1,axis=1).sort_index(axis=1)\n",
    "# return to normal\n",
    "# df1 = df1.swaplevel(0,1,axis=1).stack().reset_index()\n",
    "df1.head()"
   ]
  },
  {
   "cell_type": "code",
   "execution_count": 85,
   "metadata": {
    "ExecuteTime": {
     "end_time": "2020-11-25T15:33:59.811574Z",
     "start_time": "2020-11-25T15:33:59.806655Z"
    },
    "hidden": true
   },
   "outputs": [],
   "source": [
    "acts = pd.concat([df1, df2])"
   ]
  },
  {
   "cell_type": "code",
   "execution_count": 86,
   "metadata": {
    "ExecuteTime": {
     "end_time": "2020-11-25T15:34:00.980248Z",
     "start_time": "2020-11-25T15:34:00.976474Z"
    },
    "hidden": true
   },
   "outputs": [],
   "source": [
    "# saving initial actuals report\n",
    "acts.to_csv('../revreports/data/Actuals/2020_seg', index=False)"
   ]
  },
  {
   "cell_type": "code",
   "execution_count": 90,
   "metadata": {
    "ExecuteTime": {
     "end_time": "2020-11-25T15:34:29.267233Z",
     "start_time": "2020-11-25T15:34:29.254427Z"
    },
    "hidden": true
   },
   "outputs": [
    {
     "data": {
      "text/html": [
       "<div>\n",
       "<style scoped>\n",
       "    .dataframe tbody tr th:only-of-type {\n",
       "        vertical-align: middle;\n",
       "    }\n",
       "\n",
       "    .dataframe tbody tr th {\n",
       "        vertical-align: top;\n",
       "    }\n",
       "\n",
       "    .dataframe thead th {\n",
       "        text-align: right;\n",
       "    }\n",
       "</style>\n",
       "<table border=\"1\" class=\"dataframe\">\n",
       "  <thead>\n",
       "    <tr style=\"text-align: right;\">\n",
       "      <th></th>\n",
       "      <th>Code</th>\n",
       "      <th>Res</th>\n",
       "      <th>Rev</th>\n",
       "      <th>Date</th>\n",
       "    </tr>\n",
       "  </thead>\n",
       "  <tbody>\n",
       "    <tr>\n",
       "      <th>0</th>\n",
       "      <td>AR</td>\n",
       "      <td>0</td>\n",
       "      <td>0.00</td>\n",
       "      <td>11/22/20</td>\n",
       "    </tr>\n",
       "    <tr>\n",
       "      <th>1</th>\n",
       "      <td>CO</td>\n",
       "      <td>0</td>\n",
       "      <td>0.00</td>\n",
       "      <td>11/22/20</td>\n",
       "    </tr>\n",
       "    <tr>\n",
       "      <th>2</th>\n",
       "      <td>CS</td>\n",
       "      <td>0</td>\n",
       "      <td>0.00</td>\n",
       "      <td>11/22/20</td>\n",
       "    </tr>\n",
       "    <tr>\n",
       "      <th>3</th>\n",
       "      <td>CT</td>\n",
       "      <td>0</td>\n",
       "      <td>0.00</td>\n",
       "      <td>11/22/20</td>\n",
       "    </tr>\n",
       "    <tr>\n",
       "      <th>4</th>\n",
       "      <td>FIX</td>\n",
       "      <td>0</td>\n",
       "      <td>0.00</td>\n",
       "      <td>11/22/20</td>\n",
       "    </tr>\n",
       "    <tr>\n",
       "      <th>5</th>\n",
       "      <td>GC</td>\n",
       "      <td>0</td>\n",
       "      <td>0.00</td>\n",
       "      <td>11/22/20</td>\n",
       "    </tr>\n",
       "    <tr>\n",
       "      <th>6</th>\n",
       "      <td>GE</td>\n",
       "      <td>0</td>\n",
       "      <td>0.00</td>\n",
       "      <td>11/22/20</td>\n",
       "    </tr>\n",
       "    <tr>\n",
       "      <th>7</th>\n",
       "      <td>GL</td>\n",
       "      <td>0</td>\n",
       "      <td>0.00</td>\n",
       "      <td>11/22/20</td>\n",
       "    </tr>\n",
       "    <tr>\n",
       "      <th>8</th>\n",
       "      <td>GS</td>\n",
       "      <td>0</td>\n",
       "      <td>0.00</td>\n",
       "      <td>11/22/20</td>\n",
       "    </tr>\n",
       "    <tr>\n",
       "      <th>9</th>\n",
       "      <td>GV</td>\n",
       "      <td>0</td>\n",
       "      <td>0.00</td>\n",
       "      <td>11/22/20</td>\n",
       "    </tr>\n",
       "    <tr>\n",
       "      <th>10</th>\n",
       "      <td>HSE</td>\n",
       "      <td>1</td>\n",
       "      <td>69.00</td>\n",
       "      <td>11/22/20</td>\n",
       "    </tr>\n",
       "    <tr>\n",
       "      <th>11</th>\n",
       "      <td>INT</td>\n",
       "      <td>0</td>\n",
       "      <td>0.00</td>\n",
       "      <td>11/22/20</td>\n",
       "    </tr>\n",
       "    <tr>\n",
       "      <th>12</th>\n",
       "      <td>NG</td>\n",
       "      <td>1</td>\n",
       "      <td>69.00</td>\n",
       "      <td>11/22/20</td>\n",
       "    </tr>\n",
       "    <tr>\n",
       "      <th>13</th>\n",
       "      <td>OP</td>\n",
       "      <td>3</td>\n",
       "      <td>165.00</td>\n",
       "      <td>11/22/20</td>\n",
       "    </tr>\n",
       "    <tr>\n",
       "      <th>14</th>\n",
       "      <td>OT</td>\n",
       "      <td>51</td>\n",
       "      <td>4924.94</td>\n",
       "      <td>11/22/20</td>\n",
       "    </tr>\n",
       "    <tr>\n",
       "      <th>15</th>\n",
       "      <td>PK</td>\n",
       "      <td>0</td>\n",
       "      <td>0.00</td>\n",
       "      <td>11/22/20</td>\n",
       "    </tr>\n",
       "    <tr>\n",
       "      <th>16</th>\n",
       "      <td>PSBY</td>\n",
       "      <td>0</td>\n",
       "      <td>0.00</td>\n",
       "      <td>11/22/20</td>\n",
       "    </tr>\n",
       "    <tr>\n",
       "      <th>17</th>\n",
       "      <td>RA</td>\n",
       "      <td>7</td>\n",
       "      <td>1047.00</td>\n",
       "      <td>11/22/20</td>\n",
       "    </tr>\n",
       "    <tr>\n",
       "      <th>18</th>\n",
       "      <td>SP</td>\n",
       "      <td>33</td>\n",
       "      <td>3934.00</td>\n",
       "      <td>11/22/20</td>\n",
       "    </tr>\n",
       "    <tr>\n",
       "      <th>19</th>\n",
       "      <td>WH</td>\n",
       "      <td>2</td>\n",
       "      <td>130.00</td>\n",
       "      <td>11/22/20</td>\n",
       "    </tr>\n",
       "  </tbody>\n",
       "</table>\n",
       "</div>"
      ],
      "text/plain": [
       "    Code  Res      Rev      Date\n",
       "0     AR    0     0.00  11/22/20\n",
       "1     CO    0     0.00  11/22/20\n",
       "2     CS    0     0.00  11/22/20\n",
       "3     CT    0     0.00  11/22/20\n",
       "4    FIX    0     0.00  11/22/20\n",
       "5     GC    0     0.00  11/22/20\n",
       "6     GE    0     0.00  11/22/20\n",
       "7     GL    0     0.00  11/22/20\n",
       "8     GS    0     0.00  11/22/20\n",
       "9     GV    0     0.00  11/22/20\n",
       "10   HSE    1    69.00  11/22/20\n",
       "11   INT    0     0.00  11/22/20\n",
       "12    NG    1    69.00  11/22/20\n",
       "13    OP    3   165.00  11/22/20\n",
       "14    OT   51  4924.94  11/22/20\n",
       "15    PK    0     0.00  11/22/20\n",
       "16  PSBY    0     0.00  11/22/20\n",
       "17    RA    7  1047.00  11/22/20\n",
       "18    SP   33  3934.00  11/22/20\n",
       "19    WH    2   130.00  11/22/20"
      ]
     },
     "execution_count": 90,
     "metadata": {},
     "output_type": "execute_result"
    }
   ],
   "source": [
    "act_df = pd.read_csv('../revreports/data/Actuals/2020_seg')\n",
    "act_df.head(20)"
   ]
  },
  {
   "cell_type": "markdown",
   "metadata": {
    "heading_collapsed": true,
    "hidden": true
   },
   "source": [
    "### Appending to the actuals file "
   ]
  },
  {
   "cell_type": "code",
   "execution_count": 61,
   "metadata": {
    "ExecuteTime": {
     "end_time": "2020-11-25T15:18:25.398589Z",
     "start_time": "2020-11-25T15:18:25.395953Z"
    },
    "hidden": true
   },
   "outputs": [],
   "source": [
    "actuals = '../revreports/data/Actuals/2020_seg'"
   ]
  },
  {
   "cell_type": "code",
   "execution_count": 91,
   "metadata": {
    "ExecuteTime": {
     "end_time": "2020-11-25T15:34:40.847875Z",
     "start_time": "2020-11-25T15:34:40.841458Z"
    },
    "hidden": true
   },
   "outputs": [],
   "source": [
    "df3 = pd.read_csv('../revreports/data/11_25_20/segment_stat.txt', sep=\"\\t\", engine='python', skipfooter=2,\n",
    "                 usecols=['GRP2_CODE', 'ROOMS_DAY', 'ROOM_REV_DAY'])\n",
    "df3.columns = ['Code', 'Res', 'Rev']"
   ]
  },
  {
   "cell_type": "code",
   "execution_count": 92,
   "metadata": {
    "ExecuteTime": {
     "end_time": "2020-11-25T15:34:41.845024Z",
     "start_time": "2020-11-25T15:34:41.841845Z"
    },
    "hidden": true
   },
   "outputs": [],
   "source": [
    "df3['Date'] = '11/24/20'"
   ]
  },
  {
   "cell_type": "code",
   "execution_count": 93,
   "metadata": {
    "ExecuteTime": {
     "end_time": "2020-11-25T15:34:43.645626Z",
     "start_time": "2020-11-25T15:34:43.641641Z"
    },
    "hidden": true
   },
   "outputs": [],
   "source": [
    "df3.to_csv(actuals, mode='a', header=False, index=False)\n"
   ]
  },
  {
   "cell_type": "code",
   "execution_count": 94,
   "metadata": {
    "ExecuteTime": {
     "end_time": "2020-11-25T15:34:45.065701Z",
     "start_time": "2020-11-25T15:34:45.060757Z"
    },
    "hidden": true
   },
   "outputs": [],
   "source": [
    "df6 = pd.read_csv(actuals)"
   ]
  },
  {
   "cell_type": "code",
   "execution_count": 95,
   "metadata": {
    "ExecuteTime": {
     "end_time": "2020-11-25T15:34:48.006277Z",
     "start_time": "2020-11-25T15:34:47.990388Z"
    },
    "hidden": true
   },
   "outputs": [
    {
     "data": {
      "text/html": [
       "<div>\n",
       "<style scoped>\n",
       "    .dataframe tbody tr th:only-of-type {\n",
       "        vertical-align: middle;\n",
       "    }\n",
       "\n",
       "    .dataframe tbody tr th {\n",
       "        vertical-align: top;\n",
       "    }\n",
       "\n",
       "    .dataframe thead th {\n",
       "        text-align: right;\n",
       "    }\n",
       "</style>\n",
       "<table border=\"1\" class=\"dataframe\">\n",
       "  <thead>\n",
       "    <tr style=\"text-align: right;\">\n",
       "      <th></th>\n",
       "      <th>Code</th>\n",
       "      <th>Res</th>\n",
       "      <th>Rev</th>\n",
       "      <th>Date</th>\n",
       "    </tr>\n",
       "  </thead>\n",
       "  <tbody>\n",
       "    <tr>\n",
       "      <th>0</th>\n",
       "      <td>AR</td>\n",
       "      <td>0</td>\n",
       "      <td>0.00</td>\n",
       "      <td>11/22/20</td>\n",
       "    </tr>\n",
       "    <tr>\n",
       "      <th>1</th>\n",
       "      <td>CO</td>\n",
       "      <td>0</td>\n",
       "      <td>0.00</td>\n",
       "      <td>11/22/20</td>\n",
       "    </tr>\n",
       "    <tr>\n",
       "      <th>2</th>\n",
       "      <td>CS</td>\n",
       "      <td>0</td>\n",
       "      <td>0.00</td>\n",
       "      <td>11/22/20</td>\n",
       "    </tr>\n",
       "    <tr>\n",
       "      <th>3</th>\n",
       "      <td>CT</td>\n",
       "      <td>0</td>\n",
       "      <td>0.00</td>\n",
       "      <td>11/22/20</td>\n",
       "    </tr>\n",
       "    <tr>\n",
       "      <th>4</th>\n",
       "      <td>FIX</td>\n",
       "      <td>0</td>\n",
       "      <td>0.00</td>\n",
       "      <td>11/22/20</td>\n",
       "    </tr>\n",
       "    <tr>\n",
       "      <th>5</th>\n",
       "      <td>GC</td>\n",
       "      <td>0</td>\n",
       "      <td>0.00</td>\n",
       "      <td>11/22/20</td>\n",
       "    </tr>\n",
       "    <tr>\n",
       "      <th>6</th>\n",
       "      <td>GE</td>\n",
       "      <td>0</td>\n",
       "      <td>0.00</td>\n",
       "      <td>11/22/20</td>\n",
       "    </tr>\n",
       "    <tr>\n",
       "      <th>7</th>\n",
       "      <td>GL</td>\n",
       "      <td>0</td>\n",
       "      <td>0.00</td>\n",
       "      <td>11/22/20</td>\n",
       "    </tr>\n",
       "    <tr>\n",
       "      <th>8</th>\n",
       "      <td>GS</td>\n",
       "      <td>0</td>\n",
       "      <td>0.00</td>\n",
       "      <td>11/22/20</td>\n",
       "    </tr>\n",
       "    <tr>\n",
       "      <th>9</th>\n",
       "      <td>GV</td>\n",
       "      <td>0</td>\n",
       "      <td>0.00</td>\n",
       "      <td>11/22/20</td>\n",
       "    </tr>\n",
       "    <tr>\n",
       "      <th>10</th>\n",
       "      <td>HSE</td>\n",
       "      <td>1</td>\n",
       "      <td>69.00</td>\n",
       "      <td>11/22/20</td>\n",
       "    </tr>\n",
       "    <tr>\n",
       "      <th>11</th>\n",
       "      <td>INT</td>\n",
       "      <td>0</td>\n",
       "      <td>0.00</td>\n",
       "      <td>11/22/20</td>\n",
       "    </tr>\n",
       "    <tr>\n",
       "      <th>12</th>\n",
       "      <td>NG</td>\n",
       "      <td>1</td>\n",
       "      <td>69.00</td>\n",
       "      <td>11/22/20</td>\n",
       "    </tr>\n",
       "    <tr>\n",
       "      <th>13</th>\n",
       "      <td>OP</td>\n",
       "      <td>3</td>\n",
       "      <td>165.00</td>\n",
       "      <td>11/22/20</td>\n",
       "    </tr>\n",
       "    <tr>\n",
       "      <th>14</th>\n",
       "      <td>OT</td>\n",
       "      <td>51</td>\n",
       "      <td>4924.94</td>\n",
       "      <td>11/22/20</td>\n",
       "    </tr>\n",
       "    <tr>\n",
       "      <th>15</th>\n",
       "      <td>PK</td>\n",
       "      <td>0</td>\n",
       "      <td>0.00</td>\n",
       "      <td>11/22/20</td>\n",
       "    </tr>\n",
       "    <tr>\n",
       "      <th>16</th>\n",
       "      <td>PSBY</td>\n",
       "      <td>0</td>\n",
       "      <td>0.00</td>\n",
       "      <td>11/22/20</td>\n",
       "    </tr>\n",
       "    <tr>\n",
       "      <th>17</th>\n",
       "      <td>RA</td>\n",
       "      <td>7</td>\n",
       "      <td>1047.00</td>\n",
       "      <td>11/22/20</td>\n",
       "    </tr>\n",
       "    <tr>\n",
       "      <th>18</th>\n",
       "      <td>SP</td>\n",
       "      <td>33</td>\n",
       "      <td>3934.00</td>\n",
       "      <td>11/22/20</td>\n",
       "    </tr>\n",
       "    <tr>\n",
       "      <th>19</th>\n",
       "      <td>WH</td>\n",
       "      <td>2</td>\n",
       "      <td>130.00</td>\n",
       "      <td>11/22/20</td>\n",
       "    </tr>\n",
       "    <tr>\n",
       "      <th>20</th>\n",
       "      <td>AR</td>\n",
       "      <td>0</td>\n",
       "      <td>0.00</td>\n",
       "      <td>11/23/20</td>\n",
       "    </tr>\n",
       "    <tr>\n",
       "      <th>21</th>\n",
       "      <td>CO</td>\n",
       "      <td>0</td>\n",
       "      <td>0.00</td>\n",
       "      <td>11/23/20</td>\n",
       "    </tr>\n",
       "    <tr>\n",
       "      <th>22</th>\n",
       "      <td>CS</td>\n",
       "      <td>0</td>\n",
       "      <td>0.00</td>\n",
       "      <td>11/23/20</td>\n",
       "    </tr>\n",
       "    <tr>\n",
       "      <th>23</th>\n",
       "      <td>CT</td>\n",
       "      <td>0</td>\n",
       "      <td>0.00</td>\n",
       "      <td>11/23/20</td>\n",
       "    </tr>\n",
       "    <tr>\n",
       "      <th>24</th>\n",
       "      <td>FIX</td>\n",
       "      <td>0</td>\n",
       "      <td>0.00</td>\n",
       "      <td>11/23/20</td>\n",
       "    </tr>\n",
       "    <tr>\n",
       "      <th>25</th>\n",
       "      <td>GC</td>\n",
       "      <td>0</td>\n",
       "      <td>0.00</td>\n",
       "      <td>11/23/20</td>\n",
       "    </tr>\n",
       "    <tr>\n",
       "      <th>26</th>\n",
       "      <td>GE</td>\n",
       "      <td>0</td>\n",
       "      <td>0.00</td>\n",
       "      <td>11/23/20</td>\n",
       "    </tr>\n",
       "    <tr>\n",
       "      <th>27</th>\n",
       "      <td>GL</td>\n",
       "      <td>0</td>\n",
       "      <td>0.00</td>\n",
       "      <td>11/23/20</td>\n",
       "    </tr>\n",
       "    <tr>\n",
       "      <th>28</th>\n",
       "      <td>GS</td>\n",
       "      <td>0</td>\n",
       "      <td>0.00</td>\n",
       "      <td>11/23/20</td>\n",
       "    </tr>\n",
       "    <tr>\n",
       "      <th>29</th>\n",
       "      <td>GV</td>\n",
       "      <td>0</td>\n",
       "      <td>0.00</td>\n",
       "      <td>11/23/20</td>\n",
       "    </tr>\n",
       "    <tr>\n",
       "      <th>30</th>\n",
       "      <td>HSE</td>\n",
       "      <td>0</td>\n",
       "      <td>0.00</td>\n",
       "      <td>11/23/20</td>\n",
       "    </tr>\n",
       "    <tr>\n",
       "      <th>31</th>\n",
       "      <td>INT</td>\n",
       "      <td>0</td>\n",
       "      <td>0.00</td>\n",
       "      <td>11/23/20</td>\n",
       "    </tr>\n",
       "    <tr>\n",
       "      <th>32</th>\n",
       "      <td>NG</td>\n",
       "      <td>1</td>\n",
       "      <td>69.00</td>\n",
       "      <td>11/23/20</td>\n",
       "    </tr>\n",
       "    <tr>\n",
       "      <th>33</th>\n",
       "      <td>OP</td>\n",
       "      <td>1</td>\n",
       "      <td>55.00</td>\n",
       "      <td>11/23/20</td>\n",
       "    </tr>\n",
       "    <tr>\n",
       "      <th>34</th>\n",
       "      <td>OT</td>\n",
       "      <td>69</td>\n",
       "      <td>6343.51</td>\n",
       "      <td>11/23/20</td>\n",
       "    </tr>\n",
       "    <tr>\n",
       "      <th>35</th>\n",
       "      <td>PK</td>\n",
       "      <td>0</td>\n",
       "      <td>0.00</td>\n",
       "      <td>11/23/20</td>\n",
       "    </tr>\n",
       "    <tr>\n",
       "      <th>36</th>\n",
       "      <td>PSBY</td>\n",
       "      <td>0</td>\n",
       "      <td>0.00</td>\n",
       "      <td>11/23/20</td>\n",
       "    </tr>\n",
       "    <tr>\n",
       "      <th>37</th>\n",
       "      <td>RA</td>\n",
       "      <td>5</td>\n",
       "      <td>619.00</td>\n",
       "      <td>11/23/20</td>\n",
       "    </tr>\n",
       "    <tr>\n",
       "      <th>38</th>\n",
       "      <td>SP</td>\n",
       "      <td>27</td>\n",
       "      <td>3011.40</td>\n",
       "      <td>11/23/20</td>\n",
       "    </tr>\n",
       "    <tr>\n",
       "      <th>39</th>\n",
       "      <td>WH</td>\n",
       "      <td>2</td>\n",
       "      <td>130.00</td>\n",
       "      <td>11/23/20</td>\n",
       "    </tr>\n",
       "    <tr>\n",
       "      <th>40</th>\n",
       "      <td>AR</td>\n",
       "      <td>0</td>\n",
       "      <td>0.00</td>\n",
       "      <td>11/24/20</td>\n",
       "    </tr>\n",
       "    <tr>\n",
       "      <th>41</th>\n",
       "      <td>CO</td>\n",
       "      <td>0</td>\n",
       "      <td>0.00</td>\n",
       "      <td>11/24/20</td>\n",
       "    </tr>\n",
       "    <tr>\n",
       "      <th>42</th>\n",
       "      <td>CS</td>\n",
       "      <td>0</td>\n",
       "      <td>0.00</td>\n",
       "      <td>11/24/20</td>\n",
       "    </tr>\n",
       "    <tr>\n",
       "      <th>43</th>\n",
       "      <td>CT</td>\n",
       "      <td>0</td>\n",
       "      <td>0.00</td>\n",
       "      <td>11/24/20</td>\n",
       "    </tr>\n",
       "    <tr>\n",
       "      <th>44</th>\n",
       "      <td>FIX</td>\n",
       "      <td>0</td>\n",
       "      <td>0.00</td>\n",
       "      <td>11/24/20</td>\n",
       "    </tr>\n",
       "    <tr>\n",
       "      <th>45</th>\n",
       "      <td>GC</td>\n",
       "      <td>0</td>\n",
       "      <td>0.00</td>\n",
       "      <td>11/24/20</td>\n",
       "    </tr>\n",
       "    <tr>\n",
       "      <th>46</th>\n",
       "      <td>GE</td>\n",
       "      <td>0</td>\n",
       "      <td>0.00</td>\n",
       "      <td>11/24/20</td>\n",
       "    </tr>\n",
       "    <tr>\n",
       "      <th>47</th>\n",
       "      <td>GL</td>\n",
       "      <td>0</td>\n",
       "      <td>0.00</td>\n",
       "      <td>11/24/20</td>\n",
       "    </tr>\n",
       "    <tr>\n",
       "      <th>48</th>\n",
       "      <td>GS</td>\n",
       "      <td>0</td>\n",
       "      <td>0.00</td>\n",
       "      <td>11/24/20</td>\n",
       "    </tr>\n",
       "    <tr>\n",
       "      <th>49</th>\n",
       "      <td>GV</td>\n",
       "      <td>0</td>\n",
       "      <td>0.00</td>\n",
       "      <td>11/24/20</td>\n",
       "    </tr>\n",
       "    <tr>\n",
       "      <th>50</th>\n",
       "      <td>HSE</td>\n",
       "      <td>0</td>\n",
       "      <td>0.00</td>\n",
       "      <td>11/24/20</td>\n",
       "    </tr>\n",
       "    <tr>\n",
       "      <th>51</th>\n",
       "      <td>INT</td>\n",
       "      <td>0</td>\n",
       "      <td>0.00</td>\n",
       "      <td>11/24/20</td>\n",
       "    </tr>\n",
       "    <tr>\n",
       "      <th>52</th>\n",
       "      <td>NG</td>\n",
       "      <td>1</td>\n",
       "      <td>69.00</td>\n",
       "      <td>11/24/20</td>\n",
       "    </tr>\n",
       "    <tr>\n",
       "      <th>53</th>\n",
       "      <td>OP</td>\n",
       "      <td>0</td>\n",
       "      <td>0.00</td>\n",
       "      <td>11/24/20</td>\n",
       "    </tr>\n",
       "    <tr>\n",
       "      <th>54</th>\n",
       "      <td>OT</td>\n",
       "      <td>70</td>\n",
       "      <td>6429.30</td>\n",
       "      <td>11/24/20</td>\n",
       "    </tr>\n",
       "    <tr>\n",
       "      <th>55</th>\n",
       "      <td>PK</td>\n",
       "      <td>0</td>\n",
       "      <td>0.00</td>\n",
       "      <td>11/24/20</td>\n",
       "    </tr>\n",
       "    <tr>\n",
       "      <th>56</th>\n",
       "      <td>PSBY</td>\n",
       "      <td>0</td>\n",
       "      <td>0.00</td>\n",
       "      <td>11/24/20</td>\n",
       "    </tr>\n",
       "    <tr>\n",
       "      <th>57</th>\n",
       "      <td>RA</td>\n",
       "      <td>3</td>\n",
       "      <td>447.00</td>\n",
       "      <td>11/24/20</td>\n",
       "    </tr>\n",
       "    <tr>\n",
       "      <th>58</th>\n",
       "      <td>SP</td>\n",
       "      <td>33</td>\n",
       "      <td>3359.40</td>\n",
       "      <td>11/24/20</td>\n",
       "    </tr>\n",
       "    <tr>\n",
       "      <th>59</th>\n",
       "      <td>WH</td>\n",
       "      <td>2</td>\n",
       "      <td>130.00</td>\n",
       "      <td>11/24/20</td>\n",
       "    </tr>\n",
       "  </tbody>\n",
       "</table>\n",
       "</div>"
      ],
      "text/plain": [
       "    Code  Res      Rev      Date\n",
       "0     AR    0     0.00  11/22/20\n",
       "1     CO    0     0.00  11/22/20\n",
       "2     CS    0     0.00  11/22/20\n",
       "3     CT    0     0.00  11/22/20\n",
       "4    FIX    0     0.00  11/22/20\n",
       "5     GC    0     0.00  11/22/20\n",
       "6     GE    0     0.00  11/22/20\n",
       "7     GL    0     0.00  11/22/20\n",
       "8     GS    0     0.00  11/22/20\n",
       "9     GV    0     0.00  11/22/20\n",
       "10   HSE    1    69.00  11/22/20\n",
       "11   INT    0     0.00  11/22/20\n",
       "12    NG    1    69.00  11/22/20\n",
       "13    OP    3   165.00  11/22/20\n",
       "14    OT   51  4924.94  11/22/20\n",
       "15    PK    0     0.00  11/22/20\n",
       "16  PSBY    0     0.00  11/22/20\n",
       "17    RA    7  1047.00  11/22/20\n",
       "18    SP   33  3934.00  11/22/20\n",
       "19    WH    2   130.00  11/22/20\n",
       "20    AR    0     0.00  11/23/20\n",
       "21    CO    0     0.00  11/23/20\n",
       "22    CS    0     0.00  11/23/20\n",
       "23    CT    0     0.00  11/23/20\n",
       "24   FIX    0     0.00  11/23/20\n",
       "25    GC    0     0.00  11/23/20\n",
       "26    GE    0     0.00  11/23/20\n",
       "27    GL    0     0.00  11/23/20\n",
       "28    GS    0     0.00  11/23/20\n",
       "29    GV    0     0.00  11/23/20\n",
       "30   HSE    0     0.00  11/23/20\n",
       "31   INT    0     0.00  11/23/20\n",
       "32    NG    1    69.00  11/23/20\n",
       "33    OP    1    55.00  11/23/20\n",
       "34    OT   69  6343.51  11/23/20\n",
       "35    PK    0     0.00  11/23/20\n",
       "36  PSBY    0     0.00  11/23/20\n",
       "37    RA    5   619.00  11/23/20\n",
       "38    SP   27  3011.40  11/23/20\n",
       "39    WH    2   130.00  11/23/20\n",
       "40    AR    0     0.00  11/24/20\n",
       "41    CO    0     0.00  11/24/20\n",
       "42    CS    0     0.00  11/24/20\n",
       "43    CT    0     0.00  11/24/20\n",
       "44   FIX    0     0.00  11/24/20\n",
       "45    GC    0     0.00  11/24/20\n",
       "46    GE    0     0.00  11/24/20\n",
       "47    GL    0     0.00  11/24/20\n",
       "48    GS    0     0.00  11/24/20\n",
       "49    GV    0     0.00  11/24/20\n",
       "50   HSE    0     0.00  11/24/20\n",
       "51   INT    0     0.00  11/24/20\n",
       "52    NG    1    69.00  11/24/20\n",
       "53    OP    0     0.00  11/24/20\n",
       "54    OT   70  6429.30  11/24/20\n",
       "55    PK    0     0.00  11/24/20\n",
       "56  PSBY    0     0.00  11/24/20\n",
       "57    RA    3   447.00  11/24/20\n",
       "58    SP   33  3359.40  11/24/20\n",
       "59    WH    2   130.00  11/24/20"
      ]
     },
     "execution_count": 95,
     "metadata": {},
     "output_type": "execute_result"
    }
   ],
   "source": [
    "df6"
   ]
  },
  {
   "cell_type": "markdown",
   "metadata": {
    "heading_collapsed": true
   },
   "source": [
    "## Segment Res "
   ]
  },
  {
   "cell_type": "code",
   "execution_count": 38,
   "metadata": {
    "ExecuteTime": {
     "end_time": "2020-11-25T14:14:28.908387Z",
     "start_time": "2020-11-25T14:14:27.666526Z"
    },
    "hidden": true
   },
   "outputs": [],
   "source": [
    "df3 = pd.read_csv('../revreports/data/11_23_20/segment_res.txt', sep=\"\\t\",\n",
    "                 usecols=['RESERVATION_DATE', 'MARKET_CODE', 'PRINT_NO_OF_ROOMS', 'TOTAL_REVENUE'],\n",
    "                engine='python', skipfooter=2, parse_dates=['RESERVATION_DATE'])\n",
    "\n",
    "df3.columns = ['Date', 'Code', 'Rev', 'Res']\n",
    "\n",
    "df4 = pd.read_csv('../revreports/data/11_24_20/segment_res.txt', sep=\"\\t\", \n",
    "                  usecols=['RESERVATION_DATE', 'MARKET_CODE', 'PRINT_NO_OF_ROOMS', 'TOTAL_REVENUE'],\n",
    "                 engine='python', skipfooter=2, parse_dates=['RESERVATION_DATE'])\n",
    "df4.columns = ['Date', 'Code', 'Rev', 'Res']\n",
    "\n"
   ]
  },
  {
   "cell_type": "code",
   "execution_count": 39,
   "metadata": {
    "ExecuteTime": {
     "end_time": "2020-11-25T14:14:35.468450Z",
     "start_time": "2020-11-25T14:14:35.459617Z"
    },
    "hidden": true
   },
   "outputs": [
    {
     "data": {
      "text/html": [
       "<div>\n",
       "<style scoped>\n",
       "    .dataframe tbody tr th:only-of-type {\n",
       "        vertical-align: middle;\n",
       "    }\n",
       "\n",
       "    .dataframe tbody tr th {\n",
       "        vertical-align: top;\n",
       "    }\n",
       "\n",
       "    .dataframe thead th {\n",
       "        text-align: right;\n",
       "    }\n",
       "</style>\n",
       "<table border=\"1\" class=\"dataframe\">\n",
       "  <thead>\n",
       "    <tr style=\"text-align: right;\">\n",
       "      <th></th>\n",
       "      <th>Date</th>\n",
       "      <th>Code</th>\n",
       "      <th>Res</th>\n",
       "      <th>Rev</th>\n",
       "    </tr>\n",
       "  </thead>\n",
       "  <tbody>\n",
       "    <tr>\n",
       "      <th>0</th>\n",
       "      <td>2020-11-24</td>\n",
       "      <td>AR</td>\n",
       "      <td>0</td>\n",
       "      <td>0.0</td>\n",
       "    </tr>\n",
       "    <tr>\n",
       "      <th>1</th>\n",
       "      <td>2020-11-24</td>\n",
       "      <td>CO</td>\n",
       "      <td>0</td>\n",
       "      <td>0.0</td>\n",
       "    </tr>\n",
       "    <tr>\n",
       "      <th>2</th>\n",
       "      <td>2020-11-24</td>\n",
       "      <td>CS</td>\n",
       "      <td>0</td>\n",
       "      <td>0.0</td>\n",
       "    </tr>\n",
       "    <tr>\n",
       "      <th>3</th>\n",
       "      <td>2020-11-24</td>\n",
       "      <td>CT</td>\n",
       "      <td>0</td>\n",
       "      <td>0.0</td>\n",
       "    </tr>\n",
       "    <tr>\n",
       "      <th>4</th>\n",
       "      <td>2020-11-24</td>\n",
       "      <td>FIX</td>\n",
       "      <td>0</td>\n",
       "      <td>0.0</td>\n",
       "    </tr>\n",
       "  </tbody>\n",
       "</table>\n",
       "</div>"
      ],
      "text/plain": [
       "        Date Code  Res  Rev\n",
       "0 2020-11-24   AR    0  0.0\n",
       "1 2020-11-24   CO    0  0.0\n",
       "2 2020-11-24   CS    0  0.0\n",
       "3 2020-11-24   CT    0  0.0\n",
       "4 2020-11-24  FIX    0  0.0"
      ]
     },
     "execution_count": 39,
     "metadata": {},
     "output_type": "execute_result"
    }
   ],
   "source": [
    "df4.head()"
   ]
  },
  {
   "cell_type": "code",
   "execution_count": 40,
   "metadata": {
    "ExecuteTime": {
     "end_time": "2020-11-25T14:14:43.404432Z",
     "start_time": "2020-11-25T14:14:43.399987Z"
    },
    "hidden": true
   },
   "outputs": [],
   "source": [
    "df5 = pd.concat([df1, df4])"
   ]
  },
  {
   "cell_type": "code",
   "execution_count": 47,
   "metadata": {
    "ExecuteTime": {
     "end_time": "2020-11-25T14:28:10.628652Z",
     "start_time": "2020-11-25T14:28:10.552044Z"
    },
    "hidden": true
   },
   "outputs": [],
   "source": [
    "df5.to_csv('Nov_24.csv', index=False)"
   ]
  },
  {
   "cell_type": "code",
   "execution_count": 51,
   "metadata": {
    "ExecuteTime": {
     "end_time": "2020-11-25T14:30:29.373580Z",
     "start_time": "2020-11-25T14:30:29.360154Z"
    },
    "hidden": true
   },
   "outputs": [],
   "source": [
    "df6 = pd.read_csv('Nov_24.csv', parse_dates=['Date']).set_index('Date')"
   ]
  },
  {
   "cell_type": "code",
   "execution_count": 52,
   "metadata": {
    "ExecuteTime": {
     "end_time": "2020-11-25T14:30:30.718337Z",
     "start_time": "2020-11-25T14:30:30.710427Z"
    },
    "hidden": true
   },
   "outputs": [
    {
     "data": {
      "text/html": [
       "<div>\n",
       "<style scoped>\n",
       "    .dataframe tbody tr th:only-of-type {\n",
       "        vertical-align: middle;\n",
       "    }\n",
       "\n",
       "    .dataframe tbody tr th {\n",
       "        vertical-align: top;\n",
       "    }\n",
       "\n",
       "    .dataframe thead th {\n",
       "        text-align: right;\n",
       "    }\n",
       "</style>\n",
       "<table border=\"1\" class=\"dataframe\">\n",
       "  <thead>\n",
       "    <tr style=\"text-align: right;\">\n",
       "      <th></th>\n",
       "      <th>Code</th>\n",
       "      <th>Res</th>\n",
       "      <th>Rev</th>\n",
       "    </tr>\n",
       "    <tr>\n",
       "      <th>Date</th>\n",
       "      <th></th>\n",
       "      <th></th>\n",
       "      <th></th>\n",
       "    </tr>\n",
       "  </thead>\n",
       "  <tbody>\n",
       "    <tr>\n",
       "      <th>2020-11-23</th>\n",
       "      <td>AR</td>\n",
       "      <td>0</td>\n",
       "      <td>0.0</td>\n",
       "    </tr>\n",
       "    <tr>\n",
       "      <th>2020-11-23</th>\n",
       "      <td>CO</td>\n",
       "      <td>0</td>\n",
       "      <td>0.0</td>\n",
       "    </tr>\n",
       "    <tr>\n",
       "      <th>2020-11-23</th>\n",
       "      <td>CS</td>\n",
       "      <td>0</td>\n",
       "      <td>0.0</td>\n",
       "    </tr>\n",
       "    <tr>\n",
       "      <th>2020-11-23</th>\n",
       "      <td>CT</td>\n",
       "      <td>0</td>\n",
       "      <td>0.0</td>\n",
       "    </tr>\n",
       "    <tr>\n",
       "      <th>2020-11-23</th>\n",
       "      <td>FIX</td>\n",
       "      <td>0</td>\n",
       "      <td>0.0</td>\n",
       "    </tr>\n",
       "  </tbody>\n",
       "</table>\n",
       "</div>"
      ],
      "text/plain": [
       "           Code  Res  Rev\n",
       "Date                     \n",
       "2020-11-23   AR    0  0.0\n",
       "2020-11-23   CO    0  0.0\n",
       "2020-11-23   CS    0  0.0\n",
       "2020-11-23   CT    0  0.0\n",
       "2020-11-23  FIX    0  0.0"
      ]
     },
     "execution_count": 52,
     "metadata": {},
     "output_type": "execute_result"
    }
   ],
   "source": [
    "df6.head()"
   ]
  },
  {
   "cell_type": "code",
   "execution_count": 23,
   "metadata": {
    "ExecuteTime": {
     "end_time": "2020-11-25T14:11:15.028231Z",
     "start_time": "2020-11-25T14:11:14.997809Z"
    },
    "hidden": true
   },
   "outputs": [],
   "source": [
    "# transform into table\n",
    "df3 = df3.set_index(['Date', 'Code']).unstack().swaplevel(0,1,axis=1).sort_index(axis=1)\n",
    "df4 = df4.set_index(['Date', 'Code']).unstack().swaplevel(0,1,axis=1).sort_index(axis=1)"
   ]
  },
  {
   "cell_type": "code",
   "execution_count": 5,
   "metadata": {
    "ExecuteTime": {
     "end_time": "2020-11-25T14:05:59.096077Z",
     "start_time": "2020-11-25T14:05:59.041511Z"
    },
    "hidden": true
   },
   "outputs": [
    {
     "data": {
      "text/html": [
       "<div>\n",
       "<style scoped>\n",
       "    .dataframe tbody tr th:only-of-type {\n",
       "        vertical-align: middle;\n",
       "    }\n",
       "\n",
       "    .dataframe tbody tr th {\n",
       "        vertical-align: top;\n",
       "    }\n",
       "\n",
       "    .dataframe thead tr th {\n",
       "        text-align: left;\n",
       "    }\n",
       "\n",
       "    .dataframe thead tr:last-of-type th {\n",
       "        text-align: right;\n",
       "    }\n",
       "</style>\n",
       "<table border=\"1\" class=\"dataframe\">\n",
       "  <thead>\n",
       "    <tr>\n",
       "      <th>Code</th>\n",
       "      <th colspan=\"2\" halign=\"left\">AR</th>\n",
       "      <th colspan=\"2\" halign=\"left\">CO</th>\n",
       "      <th colspan=\"2\" halign=\"left\">CS</th>\n",
       "      <th colspan=\"2\" halign=\"left\">CT</th>\n",
       "      <th colspan=\"2\" halign=\"left\">FIX</th>\n",
       "      <th colspan=\"2\" halign=\"left\">GC</th>\n",
       "      <th colspan=\"2\" halign=\"left\">GE</th>\n",
       "      <th colspan=\"2\" halign=\"left\">GL</th>\n",
       "      <th colspan=\"2\" halign=\"left\">GS</th>\n",
       "      <th colspan=\"2\" halign=\"left\">GV</th>\n",
       "      <th colspan=\"2\" halign=\"left\">HSE</th>\n",
       "      <th colspan=\"2\" halign=\"left\">INT</th>\n",
       "      <th colspan=\"2\" halign=\"left\">NG</th>\n",
       "      <th colspan=\"2\" halign=\"left\">OP</th>\n",
       "      <th colspan=\"2\" halign=\"left\">OT</th>\n",
       "      <th colspan=\"2\" halign=\"left\">PK</th>\n",
       "      <th colspan=\"2\" halign=\"left\">PSBY</th>\n",
       "      <th colspan=\"2\" halign=\"left\">RA</th>\n",
       "      <th colspan=\"2\" halign=\"left\">SP</th>\n",
       "      <th colspan=\"2\" halign=\"left\">WH</th>\n",
       "    </tr>\n",
       "    <tr>\n",
       "      <th></th>\n",
       "      <th>RES</th>\n",
       "      <th>REV</th>\n",
       "      <th>RES</th>\n",
       "      <th>REV</th>\n",
       "      <th>RES</th>\n",
       "      <th>REV</th>\n",
       "      <th>RES</th>\n",
       "      <th>REV</th>\n",
       "      <th>RES</th>\n",
       "      <th>REV</th>\n",
       "      <th>RES</th>\n",
       "      <th>REV</th>\n",
       "      <th>RES</th>\n",
       "      <th>REV</th>\n",
       "      <th>RES</th>\n",
       "      <th>REV</th>\n",
       "      <th>RES</th>\n",
       "      <th>REV</th>\n",
       "      <th>RES</th>\n",
       "      <th>REV</th>\n",
       "      <th>RES</th>\n",
       "      <th>REV</th>\n",
       "      <th>RES</th>\n",
       "      <th>REV</th>\n",
       "      <th>RES</th>\n",
       "      <th>REV</th>\n",
       "      <th>RES</th>\n",
       "      <th>REV</th>\n",
       "      <th>RES</th>\n",
       "      <th>REV</th>\n",
       "      <th>RES</th>\n",
       "      <th>REV</th>\n",
       "      <th>RES</th>\n",
       "      <th>REV</th>\n",
       "      <th>RES</th>\n",
       "      <th>REV</th>\n",
       "      <th>RES</th>\n",
       "      <th>REV</th>\n",
       "      <th>RES</th>\n",
       "      <th>REV</th>\n",
       "    </tr>\n",
       "    <tr>\n",
       "      <th>Date</th>\n",
       "      <th></th>\n",
       "      <th></th>\n",
       "      <th></th>\n",
       "      <th></th>\n",
       "      <th></th>\n",
       "      <th></th>\n",
       "      <th></th>\n",
       "      <th></th>\n",
       "      <th></th>\n",
       "      <th></th>\n",
       "      <th></th>\n",
       "      <th></th>\n",
       "      <th></th>\n",
       "      <th></th>\n",
       "      <th></th>\n",
       "      <th></th>\n",
       "      <th></th>\n",
       "      <th></th>\n",
       "      <th></th>\n",
       "      <th></th>\n",
       "      <th></th>\n",
       "      <th></th>\n",
       "      <th></th>\n",
       "      <th></th>\n",
       "      <th></th>\n",
       "      <th></th>\n",
       "      <th></th>\n",
       "      <th></th>\n",
       "      <th></th>\n",
       "      <th></th>\n",
       "      <th></th>\n",
       "      <th></th>\n",
       "      <th></th>\n",
       "      <th></th>\n",
       "      <th></th>\n",
       "      <th></th>\n",
       "      <th></th>\n",
       "      <th></th>\n",
       "      <th></th>\n",
       "      <th></th>\n",
       "    </tr>\n",
       "  </thead>\n",
       "  <tbody>\n",
       "    <tr>\n",
       "      <th>2020-11-24</th>\n",
       "      <td>0</td>\n",
       "      <td>0.0</td>\n",
       "      <td>0</td>\n",
       "      <td>0.0</td>\n",
       "      <td>0</td>\n",
       "      <td>0.0</td>\n",
       "      <td>0</td>\n",
       "      <td>0.0</td>\n",
       "      <td>0</td>\n",
       "      <td>0.0</td>\n",
       "      <td>0</td>\n",
       "      <td>0.0</td>\n",
       "      <td>0</td>\n",
       "      <td>0.0</td>\n",
       "      <td>0</td>\n",
       "      <td>0.0</td>\n",
       "      <td>0</td>\n",
       "      <td>0.0</td>\n",
       "      <td>0</td>\n",
       "      <td>0.0</td>\n",
       "      <td>0</td>\n",
       "      <td>0.0</td>\n",
       "      <td>0</td>\n",
       "      <td>0.0</td>\n",
       "      <td>0</td>\n",
       "      <td>0.0</td>\n",
       "      <td>0</td>\n",
       "      <td>0.0</td>\n",
       "      <td>10</td>\n",
       "      <td>643.44</td>\n",
       "      <td>0</td>\n",
       "      <td>0.0</td>\n",
       "      <td>0</td>\n",
       "      <td>0.0</td>\n",
       "      <td>0</td>\n",
       "      <td>0.0</td>\n",
       "      <td>5</td>\n",
       "      <td>426.0</td>\n",
       "      <td>0</td>\n",
       "      <td>0.0</td>\n",
       "    </tr>\n",
       "    <tr>\n",
       "      <th>2020-11-25</th>\n",
       "      <td>0</td>\n",
       "      <td>0.0</td>\n",
       "      <td>0</td>\n",
       "      <td>0.0</td>\n",
       "      <td>0</td>\n",
       "      <td>0.0</td>\n",
       "      <td>0</td>\n",
       "      <td>0.0</td>\n",
       "      <td>0</td>\n",
       "      <td>0.0</td>\n",
       "      <td>0</td>\n",
       "      <td>0.0</td>\n",
       "      <td>0</td>\n",
       "      <td>0.0</td>\n",
       "      <td>0</td>\n",
       "      <td>0.0</td>\n",
       "      <td>0</td>\n",
       "      <td>0.0</td>\n",
       "      <td>0</td>\n",
       "      <td>0.0</td>\n",
       "      <td>0</td>\n",
       "      <td>0.0</td>\n",
       "      <td>0</td>\n",
       "      <td>0.0</td>\n",
       "      <td>0</td>\n",
       "      <td>0.0</td>\n",
       "      <td>0</td>\n",
       "      <td>0.0</td>\n",
       "      <td>8</td>\n",
       "      <td>627.99</td>\n",
       "      <td>0</td>\n",
       "      <td>0.0</td>\n",
       "      <td>0</td>\n",
       "      <td>0.0</td>\n",
       "      <td>0</td>\n",
       "      <td>0.0</td>\n",
       "      <td>1</td>\n",
       "      <td>-9.0</td>\n",
       "      <td>0</td>\n",
       "      <td>0.0</td>\n",
       "    </tr>\n",
       "    <tr>\n",
       "      <th>2020-11-26</th>\n",
       "      <td>0</td>\n",
       "      <td>0.0</td>\n",
       "      <td>0</td>\n",
       "      <td>0.0</td>\n",
       "      <td>0</td>\n",
       "      <td>0.0</td>\n",
       "      <td>0</td>\n",
       "      <td>0.0</td>\n",
       "      <td>0</td>\n",
       "      <td>0.0</td>\n",
       "      <td>0</td>\n",
       "      <td>0.0</td>\n",
       "      <td>0</td>\n",
       "      <td>0.0</td>\n",
       "      <td>0</td>\n",
       "      <td>0.0</td>\n",
       "      <td>0</td>\n",
       "      <td>0.0</td>\n",
       "      <td>0</td>\n",
       "      <td>0.0</td>\n",
       "      <td>0</td>\n",
       "      <td>0.0</td>\n",
       "      <td>0</td>\n",
       "      <td>0.0</td>\n",
       "      <td>0</td>\n",
       "      <td>0.0</td>\n",
       "      <td>0</td>\n",
       "      <td>0.0</td>\n",
       "      <td>4</td>\n",
       "      <td>420.53</td>\n",
       "      <td>0</td>\n",
       "      <td>0.0</td>\n",
       "      <td>0</td>\n",
       "      <td>0.0</td>\n",
       "      <td>0</td>\n",
       "      <td>0.0</td>\n",
       "      <td>0</td>\n",
       "      <td>0.0</td>\n",
       "      <td>0</td>\n",
       "      <td>0.0</td>\n",
       "    </tr>\n",
       "    <tr>\n",
       "      <th>2020-11-27</th>\n",
       "      <td>0</td>\n",
       "      <td>0.0</td>\n",
       "      <td>0</td>\n",
       "      <td>0.0</td>\n",
       "      <td>0</td>\n",
       "      <td>0.0</td>\n",
       "      <td>0</td>\n",
       "      <td>0.0</td>\n",
       "      <td>0</td>\n",
       "      <td>0.0</td>\n",
       "      <td>0</td>\n",
       "      <td>0.0</td>\n",
       "      <td>0</td>\n",
       "      <td>0.0</td>\n",
       "      <td>0</td>\n",
       "      <td>0.0</td>\n",
       "      <td>0</td>\n",
       "      <td>0.0</td>\n",
       "      <td>0</td>\n",
       "      <td>0.0</td>\n",
       "      <td>0</td>\n",
       "      <td>0.0</td>\n",
       "      <td>0</td>\n",
       "      <td>0.0</td>\n",
       "      <td>0</td>\n",
       "      <td>0.0</td>\n",
       "      <td>0</td>\n",
       "      <td>0.0</td>\n",
       "      <td>12</td>\n",
       "      <td>848.12</td>\n",
       "      <td>0</td>\n",
       "      <td>0.0</td>\n",
       "      <td>0</td>\n",
       "      <td>0.0</td>\n",
       "      <td>-1</td>\n",
       "      <td>-159.0</td>\n",
       "      <td>3</td>\n",
       "      <td>190.0</td>\n",
       "      <td>0</td>\n",
       "      <td>0.0</td>\n",
       "    </tr>\n",
       "    <tr>\n",
       "      <th>2020-11-28</th>\n",
       "      <td>0</td>\n",
       "      <td>0.0</td>\n",
       "      <td>0</td>\n",
       "      <td>0.0</td>\n",
       "      <td>0</td>\n",
       "      <td>0.0</td>\n",
       "      <td>0</td>\n",
       "      <td>0.0</td>\n",
       "      <td>0</td>\n",
       "      <td>0.0</td>\n",
       "      <td>0</td>\n",
       "      <td>0.0</td>\n",
       "      <td>0</td>\n",
       "      <td>0.0</td>\n",
       "      <td>0</td>\n",
       "      <td>0.0</td>\n",
       "      <td>0</td>\n",
       "      <td>0.0</td>\n",
       "      <td>0</td>\n",
       "      <td>0.0</td>\n",
       "      <td>0</td>\n",
       "      <td>0.0</td>\n",
       "      <td>0</td>\n",
       "      <td>0.0</td>\n",
       "      <td>0</td>\n",
       "      <td>0.0</td>\n",
       "      <td>0</td>\n",
       "      <td>0.0</td>\n",
       "      <td>10</td>\n",
       "      <td>645.65</td>\n",
       "      <td>0</td>\n",
       "      <td>0.0</td>\n",
       "      <td>0</td>\n",
       "      <td>0.0</td>\n",
       "      <td>-1</td>\n",
       "      <td>-169.0</td>\n",
       "      <td>6</td>\n",
       "      <td>432.0</td>\n",
       "      <td>0</td>\n",
       "      <td>0.0</td>\n",
       "    </tr>\n",
       "  </tbody>\n",
       "</table>\n",
       "</div>"
      ],
      "text/plain": [
       "Code        AR       CO       CS       CT      FIX       GC       GE       GL  \\\n",
       "           RES  REV RES  REV RES  REV RES  REV RES  REV RES  REV RES  REV RES   \n",
       "Date                                                                            \n",
       "2020-11-24   0  0.0   0  0.0   0  0.0   0  0.0   0  0.0   0  0.0   0  0.0   0   \n",
       "2020-11-25   0  0.0   0  0.0   0  0.0   0  0.0   0  0.0   0  0.0   0  0.0   0   \n",
       "2020-11-26   0  0.0   0  0.0   0  0.0   0  0.0   0  0.0   0  0.0   0  0.0   0   \n",
       "2020-11-27   0  0.0   0  0.0   0  0.0   0  0.0   0  0.0   0  0.0   0  0.0   0   \n",
       "2020-11-28   0  0.0   0  0.0   0  0.0   0  0.0   0  0.0   0  0.0   0  0.0   0   \n",
       "\n",
       "Code             GS       GV      HSE      INT       NG       OP       OT  \\\n",
       "            REV RES  REV RES  REV RES  REV RES  REV RES  REV RES  REV RES   \n",
       "Date                                                                        \n",
       "2020-11-24  0.0   0  0.0   0  0.0   0  0.0   0  0.0   0  0.0   0  0.0  10   \n",
       "2020-11-25  0.0   0  0.0   0  0.0   0  0.0   0  0.0   0  0.0   0  0.0   8   \n",
       "2020-11-26  0.0   0  0.0   0  0.0   0  0.0   0  0.0   0  0.0   0  0.0   4   \n",
       "2020-11-27  0.0   0  0.0   0  0.0   0  0.0   0  0.0   0  0.0   0  0.0  12   \n",
       "2020-11-28  0.0   0  0.0   0  0.0   0  0.0   0  0.0   0  0.0   0  0.0  10   \n",
       "\n",
       "Code                PK      PSBY       RA         SP         WH       \n",
       "               REV RES  REV  RES  REV RES    REV RES    REV RES  REV  \n",
       "Date                                                                  \n",
       "2020-11-24  643.44   0  0.0    0  0.0   0    0.0   5  426.0   0  0.0  \n",
       "2020-11-25  627.99   0  0.0    0  0.0   0    0.0   1   -9.0   0  0.0  \n",
       "2020-11-26  420.53   0  0.0    0  0.0   0    0.0   0    0.0   0  0.0  \n",
       "2020-11-27  848.12   0  0.0    0  0.0  -1 -159.0   3  190.0   0  0.0  \n",
       "2020-11-28  645.65   0  0.0    0  0.0  -1 -169.0   6  432.0   0  0.0  "
      ]
     },
     "execution_count": 5,
     "metadata": {},
     "output_type": "execute_result"
    }
   ],
   "source": [
    "# look at pickup\n",
    "(df2 - df.iloc[1:]).head()"
   ]
  },
  {
   "cell_type": "code",
   "execution_count": null,
   "metadata": {
    "ExecuteTime": {
     "end_time": "2020-11-25T13:57:26.942394Z",
     "start_time": "2020-11-25T13:57:26.910612Z"
    },
    "hidden": true
   },
   "outputs": [],
   "source": [
    "# convert back to normal\n",
    "df = df.swaplevel(0,1, axis=1).stack().reset_index() #.head()\n",
    "df2 = df2.swaplevel(0,1, axis=1).stack().reset_index() #.head()"
   ]
  },
  {
   "cell_type": "markdown",
   "metadata": {
    "heading_collapsed": true
   },
   "source": [
    "## Source Stat "
   ]
  },
  {
   "cell_type": "code",
   "execution_count": 100,
   "metadata": {
    "ExecuteTime": {
     "end_time": "2020-11-25T18:53:43.333307Z",
     "start_time": "2020-11-25T18:53:43.326433Z"
    },
    "hidden": true
   },
   "outputs": [],
   "source": [
    "df1 = pd.read_csv('../revreports/data/11_23_20/source_stat.txt', sep=\"\\t\",\n",
    "                  usecols=['GRP2_CODE', 'ROOMS_DAY', 'ROOM_REV_DAY'], engine='python', skipfooter=2)\n",
    "df1.columns = ['Code', 'Res', 'Rev']"
   ]
  },
  {
   "cell_type": "code",
   "execution_count": 102,
   "metadata": {
    "ExecuteTime": {
     "end_time": "2020-11-25T18:53:49.435429Z",
     "start_time": "2020-11-25T18:53:49.427970Z"
    },
    "hidden": true
   },
   "outputs": [
    {
     "data": {
      "text/html": [
       "<div>\n",
       "<style scoped>\n",
       "    .dataframe tbody tr th:only-of-type {\n",
       "        vertical-align: middle;\n",
       "    }\n",
       "\n",
       "    .dataframe tbody tr th {\n",
       "        vertical-align: top;\n",
       "    }\n",
       "\n",
       "    .dataframe thead th {\n",
       "        text-align: right;\n",
       "    }\n",
       "</style>\n",
       "<table border=\"1\" class=\"dataframe\">\n",
       "  <thead>\n",
       "    <tr style=\"text-align: right;\">\n",
       "      <th></th>\n",
       "      <th>Code</th>\n",
       "      <th>Res</th>\n",
       "      <th>Rev</th>\n",
       "    </tr>\n",
       "  </thead>\n",
       "  <tbody>\n",
       "    <tr>\n",
       "      <th>2</th>\n",
       "      <td>GDS</td>\n",
       "      <td>0</td>\n",
       "      <td>0.00</td>\n",
       "    </tr>\n",
       "    <tr>\n",
       "      <th>3</th>\n",
       "      <td>INT</td>\n",
       "      <td>1</td>\n",
       "      <td>69.00</td>\n",
       "    </tr>\n",
       "    <tr>\n",
       "      <th>4</th>\n",
       "      <td>OTA</td>\n",
       "      <td>51</td>\n",
       "      <td>4924.94</td>\n",
       "    </tr>\n",
       "    <tr>\n",
       "      <th>5</th>\n",
       "      <td>WEB</td>\n",
       "      <td>28</td>\n",
       "      <td>3448.00</td>\n",
       "    </tr>\n",
       "    <tr>\n",
       "      <th>6</th>\n",
       "      <td>WHL</td>\n",
       "      <td>0</td>\n",
       "      <td>0.00</td>\n",
       "    </tr>\n",
       "  </tbody>\n",
       "</table>\n",
       "</div>"
      ],
      "text/plain": [
       "  Code  Res      Rev\n",
       "2  GDS    0     0.00\n",
       "3  INT    1    69.00\n",
       "4  OTA   51  4924.94\n",
       "5  WEB   28  3448.00\n",
       "6  WHL    0     0.00"
      ]
     },
     "execution_count": 102,
     "metadata": {},
     "output_type": "execute_result"
    }
   ],
   "source": [
    "df1.tail()"
   ]
  },
  {
   "cell_type": "markdown",
   "metadata": {
    "heading_collapsed": true
   },
   "source": [
    "## Source Res "
   ]
  },
  {
   "cell_type": "code",
   "execution_count": 105,
   "metadata": {
    "ExecuteTime": {
     "end_time": "2020-11-25T18:56:07.450910Z",
     "start_time": "2020-11-25T18:56:07.208314Z"
    },
    "hidden": true
   },
   "outputs": [
    {
     "data": {
      "text/html": [
       "<div>\n",
       "<style scoped>\n",
       "    .dataframe tbody tr th:only-of-type {\n",
       "        vertical-align: middle;\n",
       "    }\n",
       "\n",
       "    .dataframe tbody tr th {\n",
       "        vertical-align: top;\n",
       "    }\n",
       "\n",
       "    .dataframe thead th {\n",
       "        text-align: right;\n",
       "    }\n",
       "</style>\n",
       "<table border=\"1\" class=\"dataframe\">\n",
       "  <thead>\n",
       "    <tr style=\"text-align: right;\">\n",
       "      <th></th>\n",
       "      <th>Date</th>\n",
       "      <th>Code</th>\n",
       "      <th>Res</th>\n",
       "      <th>Rev</th>\n",
       "    </tr>\n",
       "  </thead>\n",
       "  <tbody>\n",
       "    <tr>\n",
       "      <th>0</th>\n",
       "      <td>2020-11-23</td>\n",
       "      <td>CALL</td>\n",
       "      <td>2</td>\n",
       "      <td>288.00</td>\n",
       "    </tr>\n",
       "    <tr>\n",
       "      <th>1</th>\n",
       "      <td>2020-11-23</td>\n",
       "      <td>DIR</td>\n",
       "      <td>5</td>\n",
       "      <td>321.00</td>\n",
       "    </tr>\n",
       "    <tr>\n",
       "      <th>2</th>\n",
       "      <td>2020-11-23</td>\n",
       "      <td>GDS</td>\n",
       "      <td>0</td>\n",
       "      <td>0.00</td>\n",
       "    </tr>\n",
       "    <tr>\n",
       "      <th>3</th>\n",
       "      <td>2020-11-23</td>\n",
       "      <td>INT</td>\n",
       "      <td>0</td>\n",
       "      <td>0.00</td>\n",
       "    </tr>\n",
       "    <tr>\n",
       "      <th>4</th>\n",
       "      <td>2020-11-23</td>\n",
       "      <td>OTA</td>\n",
       "      <td>49</td>\n",
       "      <td>4946.23</td>\n",
       "    </tr>\n",
       "  </tbody>\n",
       "</table>\n",
       "</div>"
      ],
      "text/plain": [
       "        Date  Code  Res      Rev\n",
       "0 2020-11-23  CALL    2   288.00\n",
       "1 2020-11-23   DIR    5   321.00\n",
       "2 2020-11-23   GDS    0     0.00\n",
       "3 2020-11-23   INT    0     0.00\n",
       "4 2020-11-23   OTA   49  4946.23"
      ]
     },
     "execution_count": 105,
     "metadata": {},
     "output_type": "execute_result"
    }
   ],
   "source": [
    "df3 = pd.read_csv('../revreports/data/11_23_20/source_res.txt', sep=\"\\t\",\n",
    "                 usecols=['RESERVATION_DATE', 'MARKET_CODE', 'PRINT_NO_OF_ROOMS', 'TOTAL_REVENUE'],\n",
    "                engine='python', skipfooter=2, parse_dates=['RESERVATION_DATE'])\n",
    "\n",
    "df3.columns = ['Date', 'Code', 'Rev', 'Res']\n",
    "df3.head()"
   ]
  },
  {
   "cell_type": "markdown",
   "metadata": {
    "heading_collapsed": true
   },
   "source": [
    "## Creating history from excel feeds "
   ]
  },
  {
   "cell_type": "code",
   "execution_count": 119,
   "metadata": {
    "ExecuteTime": {
     "end_time": "2020-11-27T16:28:53.050209Z",
     "start_time": "2020-11-27T16:28:38.882609Z"
    },
    "hidden": true
   },
   "outputs": [],
   "source": [
    "# load history file\n",
    "history = pd.read_excel('../history.xlsx',sheet_name='Feed', usecols=['RESERVATION_DATE','MARKET_CODE', 'PRINT_NO_OF_ROOMS', 'TOTAL_REVENUE'],\n",
    "                       skipfooter=2, parse_dates=['RESERVATION_DATE'])\n",
    "\n",
    "history.columns = ['Date', 'Code', 'Rev', 'Res']\n"
   ]
  },
  {
   "cell_type": "code",
   "execution_count": 120,
   "metadata": {
    "ExecuteTime": {
     "end_time": "2020-11-27T16:28:54.210763Z",
     "start_time": "2020-11-27T16:28:54.181476Z"
    },
    "hidden": true
   },
   "outputs": [
    {
     "name": "stdout",
     "output_type": "stream",
     "text": [
      "<class 'pandas.core.frame.DataFrame'>\n",
      "RangeIndex: 17867 entries, 0 to 17866\n",
      "Data columns (total 4 columns):\n",
      "Date    17867 non-null object\n",
      "Code    17866 non-null object\n",
      "Rev     17865 non-null float64\n",
      "Res     17865 non-null float64\n",
      "dtypes: float64(2), object(2)\n",
      "memory usage: 558.4+ KB\n"
     ]
    }
   ],
   "source": [
    "# check if datetime conversion worked\n",
    "history.info()"
   ]
  },
  {
   "cell_type": "code",
   "execution_count": 123,
   "metadata": {
    "ExecuteTime": {
     "end_time": "2020-11-27T16:29:36.481738Z",
     "start_time": "2020-11-27T16:29:36.340807Z"
    },
    "hidden": true
   },
   "outputs": [],
   "source": [
    "# if not see where the error is\n",
    "history['Date'] = pd.to_datetime(history.Date)"
   ]
  },
  {
   "cell_type": "code",
   "execution_count": 122,
   "metadata": {
    "ExecuteTime": {
     "end_time": "2020-11-27T16:29:29.421898Z",
     "start_time": "2020-11-27T16:29:29.392958Z"
    },
    "hidden": true
   },
   "outputs": [],
   "source": [
    "# drop na if the error is from extra strings\n",
    "history = history.dropna()"
   ]
  },
  {
   "cell_type": "code",
   "execution_count": 111,
   "metadata": {
    "ExecuteTime": {
     "end_time": "2020-11-27T16:24:17.269004Z",
     "start_time": "2020-11-27T16:24:17.240292Z"
    },
    "hidden": true
   },
   "outputs": [
    {
     "data": {
      "text/html": [
       "<div>\n",
       "<style scoped>\n",
       "    .dataframe tbody tr th:only-of-type {\n",
       "        vertical-align: middle;\n",
       "    }\n",
       "\n",
       "    .dataframe tbody tr th {\n",
       "        vertical-align: top;\n",
       "    }\n",
       "\n",
       "    .dataframe thead th {\n",
       "        text-align: right;\n",
       "    }\n",
       "</style>\n",
       "<table border=\"1\" class=\"dataframe\">\n",
       "  <thead>\n",
       "    <tr style=\"text-align: right;\">\n",
       "      <th></th>\n",
       "      <th>Date</th>\n",
       "      <th>Code</th>\n",
       "      <th>Rev</th>\n",
       "      <th>Res</th>\n",
       "    </tr>\n",
       "  </thead>\n",
       "  <tbody>\n",
       "    <tr>\n",
       "      <th>8595</th>\n",
       "      <td>43817</td>\n",
       "      <td>GV</td>\n",
       "      <td>0.0</td>\n",
       "      <td>0</td>\n",
       "    </tr>\n",
       "    <tr>\n",
       "      <th>8596</th>\n",
       "      <td>43817</td>\n",
       "      <td>HSE</td>\n",
       "      <td>0.0</td>\n",
       "      <td>0</td>\n",
       "    </tr>\n",
       "  </tbody>\n",
       "</table>\n",
       "</div>"
      ],
      "text/plain": [
       "       Date Code  Rev  Res\n",
       "8595  43817   GV  0.0    0\n",
       "8596  43817  HSE  0.0    0"
      ]
     },
     "execution_count": 111,
     "metadata": {},
     "output_type": "execute_result"
    }
   ],
   "source": [
    "# insert error string here to get row number of error\n",
    "history[history.Date == '43817']"
   ]
  },
  {
   "cell_type": "code",
   "execution_count": 87,
   "metadata": {
    "ExecuteTime": {
     "end_time": "2020-11-26T12:15:27.378812Z",
     "start_time": "2020-11-26T12:15:27.370116Z"
    },
    "hidden": true
   },
   "outputs": [],
   "source": [
    "# drop na if split in middle with headers\n",
    "history.dropna(inplace=True)"
   ]
  },
  {
   "cell_type": "code",
   "execution_count": 112,
   "metadata": {
    "ExecuteTime": {
     "end_time": "2020-11-27T16:24:30.315928Z",
     "start_time": "2020-11-27T16:24:30.286447Z"
    },
    "hidden": true
   },
   "outputs": [
    {
     "data": {
      "text/html": [
       "<div>\n",
       "<style scoped>\n",
       "    .dataframe tbody tr th:only-of-type {\n",
       "        vertical-align: middle;\n",
       "    }\n",
       "\n",
       "    .dataframe tbody tr th {\n",
       "        vertical-align: top;\n",
       "    }\n",
       "\n",
       "    .dataframe thead th {\n",
       "        text-align: right;\n",
       "    }\n",
       "</style>\n",
       "<table border=\"1\" class=\"dataframe\">\n",
       "  <thead>\n",
       "    <tr style=\"text-align: right;\">\n",
       "      <th></th>\n",
       "      <th>Date</th>\n",
       "      <th>Code</th>\n",
       "      <th>Rev</th>\n",
       "      <th>Res</th>\n",
       "    </tr>\n",
       "  </thead>\n",
       "  <tbody>\n",
       "    <tr>\n",
       "      <th>8590</th>\n",
       "      <td>2019-12-18 00:00:00</td>\n",
       "      <td>FIX</td>\n",
       "      <td>0.00</td>\n",
       "      <td>0</td>\n",
       "    </tr>\n",
       "    <tr>\n",
       "      <th>8591</th>\n",
       "      <td>2019-12-18 00:00:00</td>\n",
       "      <td>GC</td>\n",
       "      <td>0.00</td>\n",
       "      <td>0</td>\n",
       "    </tr>\n",
       "    <tr>\n",
       "      <th>8592</th>\n",
       "      <td>2019-12-18 00:00:00</td>\n",
       "      <td>GE</td>\n",
       "      <td>0.00</td>\n",
       "      <td>0</td>\n",
       "    </tr>\n",
       "    <tr>\n",
       "      <th>8593</th>\n",
       "      <td>2019-12-18 00:00:00</td>\n",
       "      <td>GL</td>\n",
       "      <td>0.00</td>\n",
       "      <td>0</td>\n",
       "    </tr>\n",
       "    <tr>\n",
       "      <th>8594</th>\n",
       "      <td>2019-12-18 00:00:00</td>\n",
       "      <td>GS</td>\n",
       "      <td>0.00</td>\n",
       "      <td>0</td>\n",
       "    </tr>\n",
       "    <tr>\n",
       "      <th>8595</th>\n",
       "      <td>43817</td>\n",
       "      <td>GV</td>\n",
       "      <td>0.00</td>\n",
       "      <td>0</td>\n",
       "    </tr>\n",
       "    <tr>\n",
       "      <th>8596</th>\n",
       "      <td>43817</td>\n",
       "      <td>HSE</td>\n",
       "      <td>0.00</td>\n",
       "      <td>0</td>\n",
       "    </tr>\n",
       "    <tr>\n",
       "      <th>8597</th>\n",
       "      <td>2019-12-18 00:00:00</td>\n",
       "      <td>NG</td>\n",
       "      <td>0.00</td>\n",
       "      <td>0</td>\n",
       "    </tr>\n",
       "    <tr>\n",
       "      <th>8598</th>\n",
       "      <td>2019-12-18 00:00:00</td>\n",
       "      <td>OP</td>\n",
       "      <td>0.00</td>\n",
       "      <td>0</td>\n",
       "    </tr>\n",
       "    <tr>\n",
       "      <th>8599</th>\n",
       "      <td>2019-12-18 00:00:00</td>\n",
       "      <td>OT</td>\n",
       "      <td>6453.66</td>\n",
       "      <td>35</td>\n",
       "    </tr>\n",
       "  </tbody>\n",
       "</table>\n",
       "</div>"
      ],
      "text/plain": [
       "                     Date Code      Rev  Res\n",
       "8590  2019-12-18 00:00:00  FIX     0.00    0\n",
       "8591  2019-12-18 00:00:00   GC     0.00    0\n",
       "8592  2019-12-18 00:00:00   GE     0.00    0\n",
       "8593  2019-12-18 00:00:00   GL     0.00    0\n",
       "8594  2019-12-18 00:00:00   GS     0.00    0\n",
       "8595                43817   GV     0.00    0\n",
       "8596                43817  HSE     0.00    0\n",
       "8597  2019-12-18 00:00:00   NG     0.00    0\n",
       "8598  2019-12-18 00:00:00   OP     0.00    0\n",
       "8599  2019-12-18 00:00:00   OT  6453.66   35"
      ]
     },
     "execution_count": 112,
     "metadata": {},
     "output_type": "execute_result"
    }
   ],
   "source": [
    "# check surrounding row numbers if it is a date issue\n",
    "history.loc[8590:8599]"
   ]
  },
  {
   "cell_type": "code",
   "execution_count": 113,
   "metadata": {
    "ExecuteTime": {
     "end_time": "2020-11-27T16:24:57.731684Z",
     "start_time": "2020-11-27T16:24:57.707052Z"
    },
    "hidden": true
   },
   "outputs": [],
   "source": [
    "# set the date of the missing cells\n",
    "history.loc[8595:8597, 'Date'] = '2019-12-18 00:00:00'"
   ]
  },
  {
   "cell_type": "code",
   "execution_count": 124,
   "metadata": {
    "ExecuteTime": {
     "end_time": "2020-11-27T16:29:45.784311Z",
     "start_time": "2020-11-27T16:29:45.747822Z"
    },
    "hidden": true
   },
   "outputs": [
    {
     "data": {
      "text/html": [
       "<div>\n",
       "<style scoped>\n",
       "    .dataframe tbody tr th:only-of-type {\n",
       "        vertical-align: middle;\n",
       "    }\n",
       "\n",
       "    .dataframe tbody tr th {\n",
       "        vertical-align: top;\n",
       "    }\n",
       "\n",
       "    .dataframe thead th {\n",
       "        text-align: right;\n",
       "    }\n",
       "</style>\n",
       "<table border=\"1\" class=\"dataframe\">\n",
       "  <thead>\n",
       "    <tr style=\"text-align: right;\">\n",
       "      <th></th>\n",
       "      <th>Date</th>\n",
       "      <th>Code</th>\n",
       "      <th>Rev</th>\n",
       "      <th>Res</th>\n",
       "    </tr>\n",
       "  </thead>\n",
       "  <tbody>\n",
       "    <tr>\n",
       "      <th>0</th>\n",
       "      <td>2019-08-01</td>\n",
       "      <td>AR</td>\n",
       "      <td>0.00</td>\n",
       "      <td>0.0</td>\n",
       "    </tr>\n",
       "    <tr>\n",
       "      <th>1</th>\n",
       "      <td>2019-08-01</td>\n",
       "      <td>CO</td>\n",
       "      <td>0.00</td>\n",
       "      <td>0.0</td>\n",
       "    </tr>\n",
       "    <tr>\n",
       "      <th>2</th>\n",
       "      <td>2019-08-01</td>\n",
       "      <td>CS</td>\n",
       "      <td>1466.64</td>\n",
       "      <td>7.0</td>\n",
       "    </tr>\n",
       "    <tr>\n",
       "      <th>3</th>\n",
       "      <td>2019-08-01</td>\n",
       "      <td>CT</td>\n",
       "      <td>0.00</td>\n",
       "      <td>0.0</td>\n",
       "    </tr>\n",
       "    <tr>\n",
       "      <th>4</th>\n",
       "      <td>2019-08-01</td>\n",
       "      <td>FIX</td>\n",
       "      <td>0.00</td>\n",
       "      <td>0.0</td>\n",
       "    </tr>\n",
       "  </tbody>\n",
       "</table>\n",
       "</div>"
      ],
      "text/plain": [
       "        Date Code      Rev  Res\n",
       "0 2019-08-01   AR     0.00  0.0\n",
       "1 2019-08-01   CO     0.00  0.0\n",
       "2 2019-08-01   CS  1466.64  7.0\n",
       "3 2019-08-01   CT     0.00  0.0\n",
       "4 2019-08-01  FIX     0.00  0.0"
      ]
     },
     "metadata": {},
     "output_type": "display_data"
    },
    {
     "data": {
      "text/html": [
       "<div>\n",
       "<style scoped>\n",
       "    .dataframe tbody tr th:only-of-type {\n",
       "        vertical-align: middle;\n",
       "    }\n",
       "\n",
       "    .dataframe tbody tr th {\n",
       "        vertical-align: top;\n",
       "    }\n",
       "\n",
       "    .dataframe thead th {\n",
       "        text-align: right;\n",
       "    }\n",
       "</style>\n",
       "<table border=\"1\" class=\"dataframe\">\n",
       "  <thead>\n",
       "    <tr style=\"text-align: right;\">\n",
       "      <th></th>\n",
       "      <th>Date</th>\n",
       "      <th>Code</th>\n",
       "      <th>Rev</th>\n",
       "      <th>Res</th>\n",
       "    </tr>\n",
       "  </thead>\n",
       "  <tbody>\n",
       "    <tr>\n",
       "      <th>17862</th>\n",
       "      <td>2022-01-31</td>\n",
       "      <td>PK</td>\n",
       "      <td>0.0</td>\n",
       "      <td>0.0</td>\n",
       "    </tr>\n",
       "    <tr>\n",
       "      <th>17863</th>\n",
       "      <td>2022-01-31</td>\n",
       "      <td>PSBY</td>\n",
       "      <td>0.0</td>\n",
       "      <td>0.0</td>\n",
       "    </tr>\n",
       "    <tr>\n",
       "      <th>17864</th>\n",
       "      <td>2022-01-31</td>\n",
       "      <td>RA</td>\n",
       "      <td>0.0</td>\n",
       "      <td>0.0</td>\n",
       "    </tr>\n",
       "    <tr>\n",
       "      <th>17865</th>\n",
       "      <td>2022-01-31</td>\n",
       "      <td>SP</td>\n",
       "      <td>0.0</td>\n",
       "      <td>0.0</td>\n",
       "    </tr>\n",
       "    <tr>\n",
       "      <th>17866</th>\n",
       "      <td>2022-01-31</td>\n",
       "      <td>WH</td>\n",
       "      <td>0.0</td>\n",
       "      <td>0.0</td>\n",
       "    </tr>\n",
       "  </tbody>\n",
       "</table>\n",
       "</div>"
      ],
      "text/plain": [
       "            Date  Code  Rev  Res\n",
       "17862 2022-01-31    PK  0.0  0.0\n",
       "17863 2022-01-31  PSBY  0.0  0.0\n",
       "17864 2022-01-31    RA  0.0  0.0\n",
       "17865 2022-01-31    SP  0.0  0.0\n",
       "17866 2022-01-31    WH  0.0  0.0"
      ]
     },
     "metadata": {},
     "output_type": "display_data"
    }
   ],
   "source": [
    "display(history.head())\n",
    "display(history.tail())"
   ]
  },
  {
   "cell_type": "code",
   "execution_count": 125,
   "metadata": {
    "ExecuteTime": {
     "end_time": "2020-11-27T16:30:29.371492Z",
     "start_time": "2020-11-27T16:30:29.344639Z"
    },
    "hidden": true
   },
   "outputs": [],
   "source": [
    "# input date filters to pull real actuals from start \n",
    "# start_df = history[(history.Date.dt.year == 2019)].copy()\n",
    "# comment out above and create the end df\n",
    "# end_df = history[(history.Date.dt.year == 2019)].copy() #& (history.Date.dt.month < 11) & (history.Date.dt.day < 22) ].copy()"
   ]
  },
  {
   "cell_type": "code",
   "execution_count": 134,
   "metadata": {
    "ExecuteTime": {
     "end_time": "2020-11-27T16:37:26.019889Z",
     "start_time": "2020-11-27T16:37:25.981628Z"
    },
    "hidden": true
   },
   "outputs": [
    {
     "data": {
      "text/html": [
       "<div>\n",
       "<style scoped>\n",
       "    .dataframe tbody tr th:only-of-type {\n",
       "        vertical-align: middle;\n",
       "    }\n",
       "\n",
       "    .dataframe tbody tr th {\n",
       "        vertical-align: top;\n",
       "    }\n",
       "\n",
       "    .dataframe thead th {\n",
       "        text-align: right;\n",
       "    }\n",
       "</style>\n",
       "<table border=\"1\" class=\"dataframe\">\n",
       "  <thead>\n",
       "    <tr style=\"text-align: right;\">\n",
       "      <th></th>\n",
       "      <th>Date</th>\n",
       "      <th>Code</th>\n",
       "      <th>Rev</th>\n",
       "      <th>Res</th>\n",
       "    </tr>\n",
       "  </thead>\n",
       "  <tbody>\n",
       "    <tr>\n",
       "      <th>2363</th>\n",
       "      <td>2019-01-01</td>\n",
       "      <td>CO</td>\n",
       "      <td>0.0</td>\n",
       "      <td>0</td>\n",
       "    </tr>\n",
       "    <tr>\n",
       "      <th>2364</th>\n",
       "      <td>2019-01-01</td>\n",
       "      <td>CS</td>\n",
       "      <td>0.0</td>\n",
       "      <td>0</td>\n",
       "    </tr>\n",
       "    <tr>\n",
       "      <th>2365</th>\n",
       "      <td>2019-01-01</td>\n",
       "      <td>CT</td>\n",
       "      <td>0.0</td>\n",
       "      <td>0</td>\n",
       "    </tr>\n",
       "    <tr>\n",
       "      <th>2366</th>\n",
       "      <td>2019-01-01</td>\n",
       "      <td>FIX</td>\n",
       "      <td>0.0</td>\n",
       "      <td>0</td>\n",
       "    </tr>\n",
       "    <tr>\n",
       "      <th>2367</th>\n",
       "      <td>2019-01-01</td>\n",
       "      <td>GC</td>\n",
       "      <td>0.0</td>\n",
       "      <td>0</td>\n",
       "    </tr>\n",
       "  </tbody>\n",
       "</table>\n",
       "</div>"
      ],
      "text/plain": [
       "           Date Code  Rev  Res\n",
       "2363 2019-01-01   CO  0.0    0\n",
       "2364 2019-01-01   CS  0.0    0\n",
       "2365 2019-01-01   CT  0.0    0\n",
       "2366 2019-01-01  FIX  0.0    0\n",
       "2367 2019-01-01   GC  0.0    0"
      ]
     },
     "metadata": {},
     "output_type": "display_data"
    },
    {
     "data": {
      "text/html": [
       "<div>\n",
       "<style scoped>\n",
       "    .dataframe tbody tr th:only-of-type {\n",
       "        vertical-align: middle;\n",
       "    }\n",
       "\n",
       "    .dataframe tbody tr th {\n",
       "        vertical-align: top;\n",
       "    }\n",
       "\n",
       "    .dataframe thead th {\n",
       "        text-align: right;\n",
       "    }\n",
       "</style>\n",
       "<table border=\"1\" class=\"dataframe\">\n",
       "  <thead>\n",
       "    <tr style=\"text-align: right;\">\n",
       "      <th></th>\n",
       "      <th>Date</th>\n",
       "      <th>Code</th>\n",
       "      <th>Rev</th>\n",
       "      <th>Res</th>\n",
       "    </tr>\n",
       "  </thead>\n",
       "  <tbody>\n",
       "    <tr>\n",
       "      <th>5962</th>\n",
       "      <td>2019-07-31</td>\n",
       "      <td>OT</td>\n",
       "      <td>27638.71</td>\n",
       "      <td>127</td>\n",
       "    </tr>\n",
       "    <tr>\n",
       "      <th>5963</th>\n",
       "      <td>2019-07-31</td>\n",
       "      <td>PK</td>\n",
       "      <td>604.50</td>\n",
       "      <td>3</td>\n",
       "    </tr>\n",
       "    <tr>\n",
       "      <th>5964</th>\n",
       "      <td>2019-07-31</td>\n",
       "      <td>RA</td>\n",
       "      <td>0.00</td>\n",
       "      <td>0</td>\n",
       "    </tr>\n",
       "    <tr>\n",
       "      <th>5965</th>\n",
       "      <td>2019-07-31</td>\n",
       "      <td>SP</td>\n",
       "      <td>8585.54</td>\n",
       "      <td>39</td>\n",
       "    </tr>\n",
       "    <tr>\n",
       "      <th>5966</th>\n",
       "      <td>2019-07-31</td>\n",
       "      <td>WH</td>\n",
       "      <td>1592.00</td>\n",
       "      <td>8</td>\n",
       "    </tr>\n",
       "  </tbody>\n",
       "</table>\n",
       "</div>"
      ],
      "text/plain": [
       "           Date Code       Rev  Res\n",
       "5962 2019-07-31   OT  27638.71  127\n",
       "5963 2019-07-31   PK    604.50    3\n",
       "5964 2019-07-31   RA      0.00    0\n",
       "5965 2019-07-31   SP   8585.54   39\n",
       "5966 2019-07-31   WH   1592.00    8"
      ]
     },
     "metadata": {},
     "output_type": "display_data"
    },
    {
     "data": {
      "text/plain": [
       "212"
      ]
     },
     "metadata": {},
     "output_type": "display_data"
    },
    {
     "data": {
      "text/plain": [
       "17"
      ]
     },
     "execution_count": 134,
     "metadata": {},
     "output_type": "execute_result"
    }
   ],
   "source": [
    "# check your new start df for overlapping days \n",
    "display(start_df.head())\n",
    "display(start_df.tail())\n",
    "display(start_df.Date.nunique())\n",
    "start_df.Date.value_counts().max()"
   ]
  },
  {
   "cell_type": "code",
   "execution_count": 135,
   "metadata": {
    "ExecuteTime": {
     "end_time": "2020-11-27T16:37:27.905030Z",
     "start_time": "2020-11-27T16:37:27.867369Z"
    },
    "hidden": true
   },
   "outputs": [
    {
     "data": {
      "text/html": [
       "<div>\n",
       "<style scoped>\n",
       "    .dataframe tbody tr th:only-of-type {\n",
       "        vertical-align: middle;\n",
       "    }\n",
       "\n",
       "    .dataframe tbody tr th {\n",
       "        vertical-align: top;\n",
       "    }\n",
       "\n",
       "    .dataframe thead th {\n",
       "        text-align: right;\n",
       "    }\n",
       "</style>\n",
       "<table border=\"1\" class=\"dataframe\">\n",
       "  <thead>\n",
       "    <tr style=\"text-align: right;\">\n",
       "      <th></th>\n",
       "      <th>Date</th>\n",
       "      <th>Code</th>\n",
       "      <th>Rev</th>\n",
       "      <th>Res</th>\n",
       "    </tr>\n",
       "  </thead>\n",
       "  <tbody>\n",
       "    <tr>\n",
       "      <th>0</th>\n",
       "      <td>2019-08-01</td>\n",
       "      <td>AR</td>\n",
       "      <td>0.00</td>\n",
       "      <td>0.0</td>\n",
       "    </tr>\n",
       "    <tr>\n",
       "      <th>1</th>\n",
       "      <td>2019-08-01</td>\n",
       "      <td>CO</td>\n",
       "      <td>0.00</td>\n",
       "      <td>0.0</td>\n",
       "    </tr>\n",
       "    <tr>\n",
       "      <th>2</th>\n",
       "      <td>2019-08-01</td>\n",
       "      <td>CS</td>\n",
       "      <td>1466.64</td>\n",
       "      <td>7.0</td>\n",
       "    </tr>\n",
       "    <tr>\n",
       "      <th>3</th>\n",
       "      <td>2019-08-01</td>\n",
       "      <td>CT</td>\n",
       "      <td>0.00</td>\n",
       "      <td>0.0</td>\n",
       "    </tr>\n",
       "    <tr>\n",
       "      <th>4</th>\n",
       "      <td>2019-08-01</td>\n",
       "      <td>FIX</td>\n",
       "      <td>0.00</td>\n",
       "      <td>0.0</td>\n",
       "    </tr>\n",
       "  </tbody>\n",
       "</table>\n",
       "</div>"
      ],
      "text/plain": [
       "        Date Code      Rev  Res\n",
       "0 2019-08-01   AR     0.00  0.0\n",
       "1 2019-08-01   CO     0.00  0.0\n",
       "2 2019-08-01   CS  1466.64  7.0\n",
       "3 2019-08-01   CT     0.00  0.0\n",
       "4 2019-08-01  FIX     0.00  0.0"
      ]
     },
     "metadata": {},
     "output_type": "display_data"
    },
    {
     "data": {
      "text/html": [
       "<div>\n",
       "<style scoped>\n",
       "    .dataframe tbody tr th:only-of-type {\n",
       "        vertical-align: middle;\n",
       "    }\n",
       "\n",
       "    .dataframe tbody tr th {\n",
       "        vertical-align: top;\n",
       "    }\n",
       "\n",
       "    .dataframe thead th {\n",
       "        text-align: right;\n",
       "    }\n",
       "</style>\n",
       "<table border=\"1\" class=\"dataframe\">\n",
       "  <thead>\n",
       "    <tr style=\"text-align: right;\">\n",
       "      <th></th>\n",
       "      <th>Date</th>\n",
       "      <th>Code</th>\n",
       "      <th>Rev</th>\n",
       "      <th>Res</th>\n",
       "    </tr>\n",
       "  </thead>\n",
       "  <tbody>\n",
       "    <tr>\n",
       "      <th>2902</th>\n",
       "      <td>2019-12-31</td>\n",
       "      <td>PK</td>\n",
       "      <td>0.00</td>\n",
       "      <td>0.0</td>\n",
       "    </tr>\n",
       "    <tr>\n",
       "      <th>2903</th>\n",
       "      <td>2019-12-31</td>\n",
       "      <td>PSBY</td>\n",
       "      <td>0.00</td>\n",
       "      <td>0.0</td>\n",
       "    </tr>\n",
       "    <tr>\n",
       "      <th>2904</th>\n",
       "      <td>2019-12-31</td>\n",
       "      <td>RA</td>\n",
       "      <td>0.00</td>\n",
       "      <td>0.0</td>\n",
       "    </tr>\n",
       "    <tr>\n",
       "      <th>2905</th>\n",
       "      <td>2019-12-31</td>\n",
       "      <td>SP</td>\n",
       "      <td>15962.89</td>\n",
       "      <td>37.0</td>\n",
       "    </tr>\n",
       "    <tr>\n",
       "      <th>2906</th>\n",
       "      <td>2019-12-31</td>\n",
       "      <td>WH</td>\n",
       "      <td>11869.52</td>\n",
       "      <td>35.0</td>\n",
       "    </tr>\n",
       "  </tbody>\n",
       "</table>\n",
       "</div>"
      ],
      "text/plain": [
       "           Date  Code       Rev   Res\n",
       "2902 2019-12-31    PK      0.00   0.0\n",
       "2903 2019-12-31  PSBY      0.00   0.0\n",
       "2904 2019-12-31    RA      0.00   0.0\n",
       "2905 2019-12-31    SP  15962.89  37.0\n",
       "2906 2019-12-31    WH  11869.52  35.0"
      ]
     },
     "metadata": {},
     "output_type": "display_data"
    },
    {
     "data": {
      "text/plain": [
       "153"
      ]
     },
     "metadata": {},
     "output_type": "display_data"
    },
    {
     "data": {
      "text/plain": [
       "19"
      ]
     },
     "execution_count": 135,
     "metadata": {},
     "output_type": "execute_result"
    }
   ],
   "source": [
    "# check your end df for overlapping days\n",
    "display(end_df.head())\n",
    "display(end_df.tail())\n",
    "display(end_df.Date.nunique())\n",
    "end_df.Date.value_counts().max()"
   ]
  },
  {
   "cell_type": "code",
   "execution_count": 130,
   "metadata": {
    "ExecuteTime": {
     "end_time": "2020-11-27T16:34:43.424678Z",
     "start_time": "2020-11-27T16:34:43.399612Z"
    },
    "hidden": true
   },
   "outputs": [
    {
     "data": {
      "text/plain": [
       "365"
      ]
     },
     "execution_count": 130,
     "metadata": {},
     "output_type": "execute_result"
    }
   ],
   "source": [
    "# cut off any overlapping dates once you have a start and end df\n",
    "start_df.Date.nunique() + end_df.Date.nunique()\n",
    "\n",
    "# start_df = start_df[start_df.Date.dt.month < 8]"
   ]
  },
  {
   "cell_type": "code",
   "execution_count": 131,
   "metadata": {
    "ExecuteTime": {
     "end_time": "2020-11-27T16:34:53.289690Z",
     "start_time": "2020-11-27T16:34:53.264293Z"
    },
    "hidden": true
   },
   "outputs": [],
   "source": [
    "# concat the two dataframes\n",
    "full_year = pd.concat([start_df, end_df])"
   ]
  },
  {
   "cell_type": "code",
   "execution_count": 133,
   "metadata": {
    "ExecuteTime": {
     "end_time": "2020-11-27T16:35:49.394866Z",
     "start_time": "2020-11-27T16:35:49.355648Z"
    },
    "hidden": true
   },
   "outputs": [
    {
     "data": {
      "text/html": [
       "<div>\n",
       "<style scoped>\n",
       "    .dataframe tbody tr th:only-of-type {\n",
       "        vertical-align: middle;\n",
       "    }\n",
       "\n",
       "    .dataframe tbody tr th {\n",
       "        vertical-align: top;\n",
       "    }\n",
       "\n",
       "    .dataframe thead th {\n",
       "        text-align: right;\n",
       "    }\n",
       "</style>\n",
       "<table border=\"1\" class=\"dataframe\">\n",
       "  <thead>\n",
       "    <tr style=\"text-align: right;\">\n",
       "      <th></th>\n",
       "      <th>Date</th>\n",
       "      <th>Code</th>\n",
       "      <th>Rev</th>\n",
       "      <th>Res</th>\n",
       "    </tr>\n",
       "  </thead>\n",
       "  <tbody>\n",
       "    <tr>\n",
       "      <th>2363</th>\n",
       "      <td>2019-01-01</td>\n",
       "      <td>CO</td>\n",
       "      <td>0.0</td>\n",
       "      <td>0.0</td>\n",
       "    </tr>\n",
       "    <tr>\n",
       "      <th>2364</th>\n",
       "      <td>2019-01-01</td>\n",
       "      <td>CS</td>\n",
       "      <td>0.0</td>\n",
       "      <td>0.0</td>\n",
       "    </tr>\n",
       "    <tr>\n",
       "      <th>2365</th>\n",
       "      <td>2019-01-01</td>\n",
       "      <td>CT</td>\n",
       "      <td>0.0</td>\n",
       "      <td>0.0</td>\n",
       "    </tr>\n",
       "    <tr>\n",
       "      <th>2366</th>\n",
       "      <td>2019-01-01</td>\n",
       "      <td>FIX</td>\n",
       "      <td>0.0</td>\n",
       "      <td>0.0</td>\n",
       "    </tr>\n",
       "    <tr>\n",
       "      <th>2367</th>\n",
       "      <td>2019-01-01</td>\n",
       "      <td>GC</td>\n",
       "      <td>0.0</td>\n",
       "      <td>0.0</td>\n",
       "    </tr>\n",
       "  </tbody>\n",
       "</table>\n",
       "</div>"
      ],
      "text/plain": [
       "           Date Code  Rev  Res\n",
       "2363 2019-01-01   CO  0.0  0.0\n",
       "2364 2019-01-01   CS  0.0  0.0\n",
       "2365 2019-01-01   CT  0.0  0.0\n",
       "2366 2019-01-01  FIX  0.0  0.0\n",
       "2367 2019-01-01   GC  0.0  0.0"
      ]
     },
     "metadata": {},
     "output_type": "display_data"
    },
    {
     "data": {
      "text/html": [
       "<div>\n",
       "<style scoped>\n",
       "    .dataframe tbody tr th:only-of-type {\n",
       "        vertical-align: middle;\n",
       "    }\n",
       "\n",
       "    .dataframe tbody tr th {\n",
       "        vertical-align: top;\n",
       "    }\n",
       "\n",
       "    .dataframe thead th {\n",
       "        text-align: right;\n",
       "    }\n",
       "</style>\n",
       "<table border=\"1\" class=\"dataframe\">\n",
       "  <thead>\n",
       "    <tr style=\"text-align: right;\">\n",
       "      <th></th>\n",
       "      <th>Date</th>\n",
       "      <th>Code</th>\n",
       "      <th>Rev</th>\n",
       "      <th>Res</th>\n",
       "    </tr>\n",
       "  </thead>\n",
       "  <tbody>\n",
       "    <tr>\n",
       "      <th>2902</th>\n",
       "      <td>2019-12-31</td>\n",
       "      <td>PK</td>\n",
       "      <td>0.00</td>\n",
       "      <td>0.0</td>\n",
       "    </tr>\n",
       "    <tr>\n",
       "      <th>2903</th>\n",
       "      <td>2019-12-31</td>\n",
       "      <td>PSBY</td>\n",
       "      <td>0.00</td>\n",
       "      <td>0.0</td>\n",
       "    </tr>\n",
       "    <tr>\n",
       "      <th>2904</th>\n",
       "      <td>2019-12-31</td>\n",
       "      <td>RA</td>\n",
       "      <td>0.00</td>\n",
       "      <td>0.0</td>\n",
       "    </tr>\n",
       "    <tr>\n",
       "      <th>2905</th>\n",
       "      <td>2019-12-31</td>\n",
       "      <td>SP</td>\n",
       "      <td>15962.89</td>\n",
       "      <td>37.0</td>\n",
       "    </tr>\n",
       "    <tr>\n",
       "      <th>2906</th>\n",
       "      <td>2019-12-31</td>\n",
       "      <td>WH</td>\n",
       "      <td>11869.52</td>\n",
       "      <td>35.0</td>\n",
       "    </tr>\n",
       "  </tbody>\n",
       "</table>\n",
       "</div>"
      ],
      "text/plain": [
       "           Date  Code       Rev   Res\n",
       "2902 2019-12-31    PK      0.00   0.0\n",
       "2903 2019-12-31  PSBY      0.00   0.0\n",
       "2904 2019-12-31    RA      0.00   0.0\n",
       "2905 2019-12-31    SP  15962.89  37.0\n",
       "2906 2019-12-31    WH  11869.52  35.0"
      ]
     },
     "metadata": {},
     "output_type": "display_data"
    },
    {
     "data": {
      "text/plain": [
       "19"
      ]
     },
     "metadata": {},
     "output_type": "display_data"
    },
    {
     "data": {
      "text/plain": [
       "365"
      ]
     },
     "execution_count": 133,
     "metadata": {},
     "output_type": "execute_result"
    }
   ],
   "source": [
    "# check the date range and overlaps\n",
    "display(full_year.head())\n",
    "display(full_year.tail())\n",
    "display(full_year.Date.value_counts().max())\n",
    "full_year.Date.nunique()"
   ]
  },
  {
   "cell_type": "code",
   "execution_count": 136,
   "metadata": {
    "ExecuteTime": {
     "end_time": "2020-11-27T16:41:06.181244Z",
     "start_time": "2020-11-27T16:41:06.157810Z"
    },
    "hidden": true
   },
   "outputs": [],
   "source": [
    "# EDIT THIS FILE NAME to save it as a csv\n",
    "file = '../actuals_2019.csv'"
   ]
  },
  {
   "cell_type": "code",
   "execution_count": 137,
   "metadata": {
    "ExecuteTime": {
     "end_time": "2020-11-27T16:41:08.741308Z",
     "start_time": "2020-11-27T16:41:08.657566Z"
    },
    "hidden": true
   },
   "outputs": [],
   "source": [
    "full_year.to_csv(file, index=False)"
   ]
  },
  {
   "cell_type": "code",
   "execution_count": 138,
   "metadata": {
    "ExecuteTime": {
     "end_time": "2020-11-27T16:41:12.563346Z",
     "start_time": "2020-11-27T16:41:12.531619Z"
    },
    "hidden": true
   },
   "outputs": [],
   "source": [
    "load = pd.read_csv(file)"
   ]
  },
  {
   "cell_type": "code",
   "execution_count": 140,
   "metadata": {
    "ExecuteTime": {
     "end_time": "2020-11-27T16:41:45.777212Z",
     "start_time": "2020-11-27T16:41:45.733233Z"
    },
    "hidden": true
   },
   "outputs": [
    {
     "name": "stdout",
     "output_type": "stream",
     "text": [
      "<class 'pandas.core.frame.DataFrame'>\n",
      "RangeIndex: 6511 entries, 0 to 6510\n",
      "Data columns (total 4 columns):\n",
      "Date    6511 non-null object\n",
      "Code    6511 non-null object\n",
      "Rev     6511 non-null float64\n",
      "Res     6511 non-null float64\n",
      "dtypes: float64(2), object(2)\n",
      "memory usage: 203.5+ KB\n"
     ]
    },
    {
     "data": {
      "text/plain": [
       "None"
      ]
     },
     "metadata": {},
     "output_type": "display_data"
    },
    {
     "data": {
      "text/html": [
       "<div>\n",
       "<style scoped>\n",
       "    .dataframe tbody tr th:only-of-type {\n",
       "        vertical-align: middle;\n",
       "    }\n",
       "\n",
       "    .dataframe tbody tr th {\n",
       "        vertical-align: top;\n",
       "    }\n",
       "\n",
       "    .dataframe thead th {\n",
       "        text-align: right;\n",
       "    }\n",
       "</style>\n",
       "<table border=\"1\" class=\"dataframe\">\n",
       "  <thead>\n",
       "    <tr style=\"text-align: right;\">\n",
       "      <th></th>\n",
       "      <th>Date</th>\n",
       "      <th>Code</th>\n",
       "      <th>Rev</th>\n",
       "      <th>Res</th>\n",
       "    </tr>\n",
       "  </thead>\n",
       "  <tbody>\n",
       "    <tr>\n",
       "      <th>0</th>\n",
       "      <td>2019-01-01</td>\n",
       "      <td>CO</td>\n",
       "      <td>0.0</td>\n",
       "      <td>0.0</td>\n",
       "    </tr>\n",
       "    <tr>\n",
       "      <th>1</th>\n",
       "      <td>2019-01-01</td>\n",
       "      <td>CS</td>\n",
       "      <td>0.0</td>\n",
       "      <td>0.0</td>\n",
       "    </tr>\n",
       "    <tr>\n",
       "      <th>2</th>\n",
       "      <td>2019-01-01</td>\n",
       "      <td>CT</td>\n",
       "      <td>0.0</td>\n",
       "      <td>0.0</td>\n",
       "    </tr>\n",
       "    <tr>\n",
       "      <th>3</th>\n",
       "      <td>2019-01-01</td>\n",
       "      <td>FIX</td>\n",
       "      <td>0.0</td>\n",
       "      <td>0.0</td>\n",
       "    </tr>\n",
       "    <tr>\n",
       "      <th>4</th>\n",
       "      <td>2019-01-01</td>\n",
       "      <td>GC</td>\n",
       "      <td>0.0</td>\n",
       "      <td>0.0</td>\n",
       "    </tr>\n",
       "  </tbody>\n",
       "</table>\n",
       "</div>"
      ],
      "text/plain": [
       "         Date Code  Rev  Res\n",
       "0  2019-01-01   CO  0.0  0.0\n",
       "1  2019-01-01   CS  0.0  0.0\n",
       "2  2019-01-01   CT  0.0  0.0\n",
       "3  2019-01-01  FIX  0.0  0.0\n",
       "4  2019-01-01   GC  0.0  0.0"
      ]
     },
     "metadata": {},
     "output_type": "display_data"
    },
    {
     "data": {
      "text/html": [
       "<div>\n",
       "<style scoped>\n",
       "    .dataframe tbody tr th:only-of-type {\n",
       "        vertical-align: middle;\n",
       "    }\n",
       "\n",
       "    .dataframe tbody tr th {\n",
       "        vertical-align: top;\n",
       "    }\n",
       "\n",
       "    .dataframe thead th {\n",
       "        text-align: right;\n",
       "    }\n",
       "</style>\n",
       "<table border=\"1\" class=\"dataframe\">\n",
       "  <thead>\n",
       "    <tr style=\"text-align: right;\">\n",
       "      <th></th>\n",
       "      <th>Date</th>\n",
       "      <th>Code</th>\n",
       "      <th>Rev</th>\n",
       "      <th>Res</th>\n",
       "    </tr>\n",
       "  </thead>\n",
       "  <tbody>\n",
       "    <tr>\n",
       "      <th>6506</th>\n",
       "      <td>2019-12-31</td>\n",
       "      <td>PK</td>\n",
       "      <td>0.00</td>\n",
       "      <td>0.0</td>\n",
       "    </tr>\n",
       "    <tr>\n",
       "      <th>6507</th>\n",
       "      <td>2019-12-31</td>\n",
       "      <td>PSBY</td>\n",
       "      <td>0.00</td>\n",
       "      <td>0.0</td>\n",
       "    </tr>\n",
       "    <tr>\n",
       "      <th>6508</th>\n",
       "      <td>2019-12-31</td>\n",
       "      <td>RA</td>\n",
       "      <td>0.00</td>\n",
       "      <td>0.0</td>\n",
       "    </tr>\n",
       "    <tr>\n",
       "      <th>6509</th>\n",
       "      <td>2019-12-31</td>\n",
       "      <td>SP</td>\n",
       "      <td>15962.89</td>\n",
       "      <td>37.0</td>\n",
       "    </tr>\n",
       "    <tr>\n",
       "      <th>6510</th>\n",
       "      <td>2019-12-31</td>\n",
       "      <td>WH</td>\n",
       "      <td>11869.52</td>\n",
       "      <td>35.0</td>\n",
       "    </tr>\n",
       "  </tbody>\n",
       "</table>\n",
       "</div>"
      ],
      "text/plain": [
       "            Date  Code       Rev   Res\n",
       "6506  2019-12-31    PK      0.00   0.0\n",
       "6507  2019-12-31  PSBY      0.00   0.0\n",
       "6508  2019-12-31    RA      0.00   0.0\n",
       "6509  2019-12-31    SP  15962.89  37.0\n",
       "6510  2019-12-31    WH  11869.52  35.0"
      ]
     },
     "metadata": {},
     "output_type": "display_data"
    },
    {
     "data": {
      "text/plain": [
       "365"
      ]
     },
     "metadata": {},
     "output_type": "display_data"
    },
    {
     "data": {
      "text/plain": [
       "19"
      ]
     },
     "metadata": {},
     "output_type": "display_data"
    }
   ],
   "source": [
    "# load the file and check\n",
    "display(load.info())\n",
    "display(load.head())\n",
    "display(load.tail())\n",
    "display(load.Date.nunique())\n",
    "display(load.Date.value_counts().max())"
   ]
  },
  {
   "cell_type": "code",
   "execution_count": null,
   "metadata": {
    "hidden": true
   },
   "outputs": [],
   "source": []
  },
  {
   "cell_type": "markdown",
   "metadata": {},
   "source": [
    "# Sandbox "
   ]
  },
  {
   "cell_type": "code",
   "execution_count": 141,
   "metadata": {
    "ExecuteTime": {
     "end_time": "2020-11-27T16:44:48.127068Z",
     "start_time": "2020-11-27T16:44:48.097933Z"
    }
   },
   "outputs": [],
   "source": [
    "loader = pd.read_csv('../actuals.csv')"
   ]
  },
  {
   "cell_type": "code",
   "execution_count": 142,
   "metadata": {
    "ExecuteTime": {
     "end_time": "2020-11-27T16:45:36.571472Z",
     "start_time": "2020-11-27T16:45:36.533670Z"
    }
   },
   "outputs": [
    {
     "data": {
      "text/html": [
       "<div>\n",
       "<style scoped>\n",
       "    .dataframe tbody tr th:only-of-type {\n",
       "        vertical-align: middle;\n",
       "    }\n",
       "\n",
       "    .dataframe tbody tr th {\n",
       "        vertical-align: top;\n",
       "    }\n",
       "\n",
       "    .dataframe thead th {\n",
       "        text-align: right;\n",
       "    }\n",
       "</style>\n",
       "<table border=\"1\" class=\"dataframe\">\n",
       "  <thead>\n",
       "    <tr style=\"text-align: right;\">\n",
       "      <th></th>\n",
       "      <th>Date</th>\n",
       "      <th>Code</th>\n",
       "      <th>Rev</th>\n",
       "      <th>Res</th>\n",
       "    </tr>\n",
       "  </thead>\n",
       "  <tbody>\n",
       "    <tr>\n",
       "      <th>0</th>\n",
       "      <td>2020-01-01</td>\n",
       "      <td>AR</td>\n",
       "      <td>0.0</td>\n",
       "      <td>0.0</td>\n",
       "    </tr>\n",
       "    <tr>\n",
       "      <th>1</th>\n",
       "      <td>2020-01-01</td>\n",
       "      <td>CO</td>\n",
       "      <td>0.0</td>\n",
       "      <td>0.0</td>\n",
       "    </tr>\n",
       "    <tr>\n",
       "      <th>2</th>\n",
       "      <td>2020-01-01</td>\n",
       "      <td>CS</td>\n",
       "      <td>0.0</td>\n",
       "      <td>0.0</td>\n",
       "    </tr>\n",
       "    <tr>\n",
       "      <th>3</th>\n",
       "      <td>2020-01-01</td>\n",
       "      <td>CT</td>\n",
       "      <td>0.0</td>\n",
       "      <td>0.0</td>\n",
       "    </tr>\n",
       "    <tr>\n",
       "      <th>4</th>\n",
       "      <td>2020-01-01</td>\n",
       "      <td>FIX</td>\n",
       "      <td>0.0</td>\n",
       "      <td>0.0</td>\n",
       "    </tr>\n",
       "  </tbody>\n",
       "</table>\n",
       "</div>"
      ],
      "text/plain": [
       "         Date Code  Rev  Res\n",
       "0  2020-01-01   AR  0.0  0.0\n",
       "1  2020-01-01   CO  0.0  0.0\n",
       "2  2020-01-01   CS  0.0  0.0\n",
       "3  2020-01-01   CT  0.0  0.0\n",
       "4  2020-01-01  FIX  0.0  0.0"
      ]
     },
     "metadata": {},
     "output_type": "display_data"
    },
    {
     "data": {
      "text/html": [
       "<div>\n",
       "<style scoped>\n",
       "    .dataframe tbody tr th:only-of-type {\n",
       "        vertical-align: middle;\n",
       "    }\n",
       "\n",
       "    .dataframe tbody tr th {\n",
       "        vertical-align: top;\n",
       "    }\n",
       "\n",
       "    .dataframe thead th {\n",
       "        text-align: right;\n",
       "    }\n",
       "</style>\n",
       "<table border=\"1\" class=\"dataframe\">\n",
       "  <thead>\n",
       "    <tr style=\"text-align: right;\">\n",
       "      <th></th>\n",
       "      <th>Date</th>\n",
       "      <th>Code</th>\n",
       "      <th>Rev</th>\n",
       "      <th>Res</th>\n",
       "    </tr>\n",
       "  </thead>\n",
       "  <tbody>\n",
       "    <tr>\n",
       "      <th>6342</th>\n",
       "      <td>2020-11-26</td>\n",
       "      <td>PK</td>\n",
       "      <td>0.0</td>\n",
       "      <td>0.0</td>\n",
       "    </tr>\n",
       "    <tr>\n",
       "      <th>6343</th>\n",
       "      <td>2020-11-26</td>\n",
       "      <td>PSBY</td>\n",
       "      <td>0.0</td>\n",
       "      <td>0.0</td>\n",
       "    </tr>\n",
       "    <tr>\n",
       "      <th>6344</th>\n",
       "      <td>2020-11-26</td>\n",
       "      <td>RA</td>\n",
       "      <td>447.3</td>\n",
       "      <td>2.0</td>\n",
       "    </tr>\n",
       "    <tr>\n",
       "      <th>6345</th>\n",
       "      <td>2020-11-26</td>\n",
       "      <td>SP</td>\n",
       "      <td>3299.0</td>\n",
       "      <td>31.0</td>\n",
       "    </tr>\n",
       "    <tr>\n",
       "      <th>6346</th>\n",
       "      <td>2020-11-26</td>\n",
       "      <td>WH</td>\n",
       "      <td>195.0</td>\n",
       "      <td>3.0</td>\n",
       "    </tr>\n",
       "  </tbody>\n",
       "</table>\n",
       "</div>"
      ],
      "text/plain": [
       "            Date  Code     Rev   Res\n",
       "6342  2020-11-26    PK     0.0   0.0\n",
       "6343  2020-11-26  PSBY     0.0   0.0\n",
       "6344  2020-11-26    RA   447.3   2.0\n",
       "6345  2020-11-26    SP  3299.0  31.0\n",
       "6346  2020-11-26    WH   195.0   3.0"
      ]
     },
     "metadata": {},
     "output_type": "display_data"
    },
    {
     "data": {
      "text/plain": [
       "331"
      ]
     },
     "metadata": {},
     "output_type": "display_data"
    },
    {
     "data": {
      "text/plain": [
       "20"
      ]
     },
     "metadata": {},
     "output_type": "display_data"
    }
   ],
   "source": [
    "display(loader.head())\n",
    "display(loader.tail())\n",
    "display(loader.Date.nunique())\n",
    "display(loader.Date.value_counts().max())"
   ]
  },
  {
   "cell_type": "code",
   "execution_count": 139,
   "metadata": {
    "ExecuteTime": {
     "end_time": "2020-11-26T14:33:58.975273Z",
     "start_time": "2020-11-26T14:33:58.969996Z"
    }
   },
   "outputs": [],
   "source": [
    "loader.drop(columns=\"Unnamed: 0\", inplace=True)"
   ]
  },
  {
   "cell_type": "code",
   "execution_count": 141,
   "metadata": {
    "ExecuteTime": {
     "end_time": "2020-11-26T14:34:19.849603Z",
     "start_time": "2020-11-26T14:34:19.840000Z"
    }
   },
   "outputs": [],
   "source": [
    "loader.Date = pd.to_datetime(loader.Date)"
   ]
  },
  {
   "cell_type": "code",
   "execution_count": 142,
   "metadata": {
    "ExecuteTime": {
     "end_time": "2020-11-26T14:34:25.965656Z",
     "start_time": "2020-11-26T14:34:25.957057Z"
    }
   },
   "outputs": [
    {
     "data": {
      "text/html": [
       "<div>\n",
       "<style scoped>\n",
       "    .dataframe tbody tr th:only-of-type {\n",
       "        vertical-align: middle;\n",
       "    }\n",
       "\n",
       "    .dataframe tbody tr th {\n",
       "        vertical-align: top;\n",
       "    }\n",
       "\n",
       "    .dataframe thead th {\n",
       "        text-align: right;\n",
       "    }\n",
       "</style>\n",
       "<table border=\"1\" class=\"dataframe\">\n",
       "  <thead>\n",
       "    <tr style=\"text-align: right;\">\n",
       "      <th></th>\n",
       "      <th>Code</th>\n",
       "      <th>Res</th>\n",
       "      <th>Rev</th>\n",
       "      <th>Date</th>\n",
       "    </tr>\n",
       "  </thead>\n",
       "  <tbody>\n",
       "    <tr>\n",
       "      <th>0</th>\n",
       "      <td>AR</td>\n",
       "      <td>0</td>\n",
       "      <td>0.0</td>\n",
       "      <td>2020-11-22</td>\n",
       "    </tr>\n",
       "    <tr>\n",
       "      <th>1</th>\n",
       "      <td>CO</td>\n",
       "      <td>0</td>\n",
       "      <td>0.0</td>\n",
       "      <td>2020-11-22</td>\n",
       "    </tr>\n",
       "    <tr>\n",
       "      <th>2</th>\n",
       "      <td>CS</td>\n",
       "      <td>0</td>\n",
       "      <td>0.0</td>\n",
       "      <td>2020-11-22</td>\n",
       "    </tr>\n",
       "    <tr>\n",
       "      <th>3</th>\n",
       "      <td>CT</td>\n",
       "      <td>0</td>\n",
       "      <td>0.0</td>\n",
       "      <td>2020-11-22</td>\n",
       "    </tr>\n",
       "    <tr>\n",
       "      <th>4</th>\n",
       "      <td>FIX</td>\n",
       "      <td>0</td>\n",
       "      <td>0.0</td>\n",
       "      <td>2020-11-22</td>\n",
       "    </tr>\n",
       "  </tbody>\n",
       "</table>\n",
       "</div>"
      ],
      "text/plain": [
       "  Code  Res  Rev       Date\n",
       "0   AR    0  0.0 2020-11-22\n",
       "1   CO    0  0.0 2020-11-22\n",
       "2   CS    0  0.0 2020-11-22\n",
       "3   CT    0  0.0 2020-11-22\n",
       "4  FIX    0  0.0 2020-11-22"
      ]
     },
     "execution_count": 142,
     "metadata": {},
     "output_type": "execute_result"
    }
   ],
   "source": [
    "loader.head()"
   ]
  },
  {
   "cell_type": "code",
   "execution_count": 145,
   "metadata": {
    "ExecuteTime": {
     "end_time": "2020-11-26T14:49:41.784176Z",
     "start_time": "2020-11-26T14:49:41.779886Z"
    }
   },
   "outputs": [],
   "source": [
    "df = loader[['Date', 'Code', 'Rev', 'Res']]"
   ]
  },
  {
   "cell_type": "code",
   "execution_count": 146,
   "metadata": {
    "ExecuteTime": {
     "end_time": "2020-11-26T14:49:42.911559Z",
     "start_time": "2020-11-26T14:49:42.902575Z"
    }
   },
   "outputs": [
    {
     "data": {
      "text/html": [
       "<div>\n",
       "<style scoped>\n",
       "    .dataframe tbody tr th:only-of-type {\n",
       "        vertical-align: middle;\n",
       "    }\n",
       "\n",
       "    .dataframe tbody tr th {\n",
       "        vertical-align: top;\n",
       "    }\n",
       "\n",
       "    .dataframe thead th {\n",
       "        text-align: right;\n",
       "    }\n",
       "</style>\n",
       "<table border=\"1\" class=\"dataframe\">\n",
       "  <thead>\n",
       "    <tr style=\"text-align: right;\">\n",
       "      <th></th>\n",
       "      <th>Date</th>\n",
       "      <th>Code</th>\n",
       "      <th>Rev</th>\n",
       "      <th>Res</th>\n",
       "    </tr>\n",
       "  </thead>\n",
       "  <tbody>\n",
       "    <tr>\n",
       "      <th>0</th>\n",
       "      <td>2020-11-22</td>\n",
       "      <td>AR</td>\n",
       "      <td>0.0</td>\n",
       "      <td>0</td>\n",
       "    </tr>\n",
       "    <tr>\n",
       "      <th>1</th>\n",
       "      <td>2020-11-22</td>\n",
       "      <td>CO</td>\n",
       "      <td>0.0</td>\n",
       "      <td>0</td>\n",
       "    </tr>\n",
       "    <tr>\n",
       "      <th>2</th>\n",
       "      <td>2020-11-22</td>\n",
       "      <td>CS</td>\n",
       "      <td>0.0</td>\n",
       "      <td>0</td>\n",
       "    </tr>\n",
       "    <tr>\n",
       "      <th>3</th>\n",
       "      <td>2020-11-22</td>\n",
       "      <td>CT</td>\n",
       "      <td>0.0</td>\n",
       "      <td>0</td>\n",
       "    </tr>\n",
       "    <tr>\n",
       "      <th>4</th>\n",
       "      <td>2020-11-22</td>\n",
       "      <td>FIX</td>\n",
       "      <td>0.0</td>\n",
       "      <td>0</td>\n",
       "    </tr>\n",
       "  </tbody>\n",
       "</table>\n",
       "</div>"
      ],
      "text/plain": [
       "        Date Code  Rev  Res\n",
       "0 2020-11-22   AR  0.0    0\n",
       "1 2020-11-22   CO  0.0    0\n",
       "2 2020-11-22   CS  0.0    0\n",
       "3 2020-11-22   CT  0.0    0\n",
       "4 2020-11-22  FIX  0.0    0"
      ]
     },
     "execution_count": 146,
     "metadata": {},
     "output_type": "execute_result"
    }
   ],
   "source": [
    "df.head()"
   ]
  },
  {
   "cell_type": "code",
   "execution_count": 152,
   "metadata": {
    "ExecuteTime": {
     "end_time": "2020-11-26T14:51:52.202275Z",
     "start_time": "2020-11-26T14:51:52.197792Z"
    }
   },
   "outputs": [],
   "source": [
    "df.to_csv('../nov22.csv', index=False, header=False)"
   ]
  },
  {
   "cell_type": "code",
   "execution_count": 153,
   "metadata": {
    "ExecuteTime": {
     "end_time": "2020-11-26T14:51:53.561570Z",
     "start_time": "2020-11-26T14:51:53.556254Z"
    }
   },
   "outputs": [],
   "source": [
    "loadd = pd.read_csv('../nov22.csv', header=None)"
   ]
  },
  {
   "cell_type": "code",
   "execution_count": 155,
   "metadata": {
    "ExecuteTime": {
     "end_time": "2020-11-26T14:52:05.280566Z",
     "start_time": "2020-11-26T14:52:05.272475Z"
    }
   },
   "outputs": [
    {
     "data": {
      "text/html": [
       "<div>\n",
       "<style scoped>\n",
       "    .dataframe tbody tr th:only-of-type {\n",
       "        vertical-align: middle;\n",
       "    }\n",
       "\n",
       "    .dataframe tbody tr th {\n",
       "        vertical-align: top;\n",
       "    }\n",
       "\n",
       "    .dataframe thead th {\n",
       "        text-align: right;\n",
       "    }\n",
       "</style>\n",
       "<table border=\"1\" class=\"dataframe\">\n",
       "  <thead>\n",
       "    <tr style=\"text-align: right;\">\n",
       "      <th></th>\n",
       "      <th>0</th>\n",
       "      <th>1</th>\n",
       "      <th>2</th>\n",
       "      <th>3</th>\n",
       "    </tr>\n",
       "  </thead>\n",
       "  <tbody>\n",
       "    <tr>\n",
       "      <th>55</th>\n",
       "      <td>2020-11-24</td>\n",
       "      <td>PK</td>\n",
       "      <td>0.0</td>\n",
       "      <td>0</td>\n",
       "    </tr>\n",
       "    <tr>\n",
       "      <th>56</th>\n",
       "      <td>2020-11-24</td>\n",
       "      <td>PSBY</td>\n",
       "      <td>0.0</td>\n",
       "      <td>0</td>\n",
       "    </tr>\n",
       "    <tr>\n",
       "      <th>57</th>\n",
       "      <td>2020-11-24</td>\n",
       "      <td>RA</td>\n",
       "      <td>447.0</td>\n",
       "      <td>3</td>\n",
       "    </tr>\n",
       "    <tr>\n",
       "      <th>58</th>\n",
       "      <td>2020-11-24</td>\n",
       "      <td>SP</td>\n",
       "      <td>3359.4</td>\n",
       "      <td>33</td>\n",
       "    </tr>\n",
       "    <tr>\n",
       "      <th>59</th>\n",
       "      <td>2020-11-24</td>\n",
       "      <td>WH</td>\n",
       "      <td>130.0</td>\n",
       "      <td>2</td>\n",
       "    </tr>\n",
       "  </tbody>\n",
       "</table>\n",
       "</div>"
      ],
      "text/plain": [
       "             0     1       2   3\n",
       "55  2020-11-24    PK     0.0   0\n",
       "56  2020-11-24  PSBY     0.0   0\n",
       "57  2020-11-24    RA   447.0   3\n",
       "58  2020-11-24    SP  3359.4  33\n",
       "59  2020-11-24    WH   130.0   2"
      ]
     },
     "execution_count": 155,
     "metadata": {},
     "output_type": "execute_result"
    }
   ],
   "source": [
    "loadd.tail()"
   ]
  },
  {
   "cell_type": "code",
   "execution_count": 7,
   "metadata": {
    "ExecuteTime": {
     "end_time": "2020-11-27T11:43:46.307210Z",
     "start_time": "2020-11-27T11:43:46.158682Z"
    }
   },
   "outputs": [],
   "source": [
    "load = pd.read_csv('../revreports/data/11_25_20/segment_stat.txt', sep=\"\\t\", engine='python', skipfooter=2,\n",
    "                 usecols=['GRP2_CODE', 'ROOMS_DAY', 'ROOM_REV_DAY'])"
   ]
  },
  {
   "cell_type": "code",
   "execution_count": 8,
   "metadata": {
    "ExecuteTime": {
     "end_time": "2020-11-27T11:43:47.740973Z",
     "start_time": "2020-11-27T11:43:47.731295Z"
    }
   },
   "outputs": [
    {
     "data": {
      "text/html": [
       "<div>\n",
       "<style scoped>\n",
       "    .dataframe tbody tr th:only-of-type {\n",
       "        vertical-align: middle;\n",
       "    }\n",
       "\n",
       "    .dataframe tbody tr th {\n",
       "        vertical-align: top;\n",
       "    }\n",
       "\n",
       "    .dataframe thead th {\n",
       "        text-align: right;\n",
       "    }\n",
       "</style>\n",
       "<table border=\"1\" class=\"dataframe\">\n",
       "  <thead>\n",
       "    <tr style=\"text-align: right;\">\n",
       "      <th></th>\n",
       "      <th>GRP2_CODE</th>\n",
       "      <th>ROOMS_DAY</th>\n",
       "      <th>ROOM_REV_DAY</th>\n",
       "    </tr>\n",
       "  </thead>\n",
       "  <tbody>\n",
       "    <tr>\n",
       "      <th>0</th>\n",
       "      <td>AR</td>\n",
       "      <td>0</td>\n",
       "      <td>0.0</td>\n",
       "    </tr>\n",
       "    <tr>\n",
       "      <th>1</th>\n",
       "      <td>CO</td>\n",
       "      <td>0</td>\n",
       "      <td>0.0</td>\n",
       "    </tr>\n",
       "    <tr>\n",
       "      <th>2</th>\n",
       "      <td>CS</td>\n",
       "      <td>0</td>\n",
       "      <td>0.0</td>\n",
       "    </tr>\n",
       "    <tr>\n",
       "      <th>3</th>\n",
       "      <td>CT</td>\n",
       "      <td>0</td>\n",
       "      <td>0.0</td>\n",
       "    </tr>\n",
       "    <tr>\n",
       "      <th>4</th>\n",
       "      <td>FIX</td>\n",
       "      <td>0</td>\n",
       "      <td>0.0</td>\n",
       "    </tr>\n",
       "    <tr>\n",
       "      <th>5</th>\n",
       "      <td>GC</td>\n",
       "      <td>0</td>\n",
       "      <td>0.0</td>\n",
       "    </tr>\n",
       "    <tr>\n",
       "      <th>6</th>\n",
       "      <td>GE</td>\n",
       "      <td>0</td>\n",
       "      <td>0.0</td>\n",
       "    </tr>\n",
       "    <tr>\n",
       "      <th>7</th>\n",
       "      <td>GL</td>\n",
       "      <td>0</td>\n",
       "      <td>0.0</td>\n",
       "    </tr>\n",
       "    <tr>\n",
       "      <th>8</th>\n",
       "      <td>GS</td>\n",
       "      <td>0</td>\n",
       "      <td>0.0</td>\n",
       "    </tr>\n",
       "    <tr>\n",
       "      <th>9</th>\n",
       "      <td>GV</td>\n",
       "      <td>0</td>\n",
       "      <td>0.0</td>\n",
       "    </tr>\n",
       "    <tr>\n",
       "      <th>10</th>\n",
       "      <td>HSE</td>\n",
       "      <td>0</td>\n",
       "      <td>0.0</td>\n",
       "    </tr>\n",
       "    <tr>\n",
       "      <th>11</th>\n",
       "      <td>INT</td>\n",
       "      <td>0</td>\n",
       "      <td>0.0</td>\n",
       "    </tr>\n",
       "    <tr>\n",
       "      <th>12</th>\n",
       "      <td>NG</td>\n",
       "      <td>1</td>\n",
       "      <td>69.0</td>\n",
       "    </tr>\n",
       "    <tr>\n",
       "      <th>13</th>\n",
       "      <td>OP</td>\n",
       "      <td>0</td>\n",
       "      <td>0.0</td>\n",
       "    </tr>\n",
       "    <tr>\n",
       "      <th>14</th>\n",
       "      <td>OT</td>\n",
       "      <td>70</td>\n",
       "      <td>6429.3</td>\n",
       "    </tr>\n",
       "    <tr>\n",
       "      <th>15</th>\n",
       "      <td>PK</td>\n",
       "      <td>0</td>\n",
       "      <td>0.0</td>\n",
       "    </tr>\n",
       "    <tr>\n",
       "      <th>16</th>\n",
       "      <td>PSBY</td>\n",
       "      <td>0</td>\n",
       "      <td>0.0</td>\n",
       "    </tr>\n",
       "    <tr>\n",
       "      <th>17</th>\n",
       "      <td>RA</td>\n",
       "      <td>3</td>\n",
       "      <td>447.0</td>\n",
       "    </tr>\n",
       "    <tr>\n",
       "      <th>18</th>\n",
       "      <td>SP</td>\n",
       "      <td>33</td>\n",
       "      <td>3359.4</td>\n",
       "    </tr>\n",
       "    <tr>\n",
       "      <th>19</th>\n",
       "      <td>WH</td>\n",
       "      <td>2</td>\n",
       "      <td>130.0</td>\n",
       "    </tr>\n",
       "  </tbody>\n",
       "</table>\n",
       "</div>"
      ],
      "text/plain": [
       "   GRP2_CODE  ROOMS_DAY  ROOM_REV_DAY\n",
       "0         AR          0           0.0\n",
       "1         CO          0           0.0\n",
       "2         CS          0           0.0\n",
       "3         CT          0           0.0\n",
       "4        FIX          0           0.0\n",
       "5         GC          0           0.0\n",
       "6         GE          0           0.0\n",
       "7         GL          0           0.0\n",
       "8         GS          0           0.0\n",
       "9         GV          0           0.0\n",
       "10       HSE          0           0.0\n",
       "11       INT          0           0.0\n",
       "12        NG          1          69.0\n",
       "13        OP          0           0.0\n",
       "14        OT         70        6429.3\n",
       "15        PK          0           0.0\n",
       "16      PSBY          0           0.0\n",
       "17        RA          3         447.0\n",
       "18        SP         33        3359.4\n",
       "19        WH          2         130.0"
      ]
     },
     "execution_count": 8,
     "metadata": {},
     "output_type": "execute_result"
    }
   ],
   "source": [
    "load.tail(50)"
   ]
  },
  {
   "cell_type": "code",
   "execution_count": 101,
   "metadata": {
    "ExecuteTime": {
     "end_time": "2020-11-27T16:18:25.986787Z",
     "start_time": "2020-11-27T16:18:25.956856Z"
    }
   },
   "outputs": [],
   "source": [
    "nine = pd.read_csv('../actuals_2019.csv')"
   ]
  },
  {
   "cell_type": "code",
   "execution_count": 102,
   "metadata": {
    "ExecuteTime": {
     "end_time": "2020-11-27T16:19:22.099163Z",
     "start_time": "2020-11-27T16:19:22.057571Z"
    }
   },
   "outputs": [
    {
     "data": {
      "text/html": [
       "<div>\n",
       "<style scoped>\n",
       "    .dataframe tbody tr th:only-of-type {\n",
       "        vertical-align: middle;\n",
       "    }\n",
       "\n",
       "    .dataframe tbody tr th {\n",
       "        vertical-align: top;\n",
       "    }\n",
       "\n",
       "    .dataframe thead th {\n",
       "        text-align: right;\n",
       "    }\n",
       "</style>\n",
       "<table border=\"1\" class=\"dataframe\">\n",
       "  <thead>\n",
       "    <tr style=\"text-align: right;\">\n",
       "      <th></th>\n",
       "      <th>Date</th>\n",
       "      <th>Code</th>\n",
       "      <th>Rev</th>\n",
       "      <th>Res</th>\n",
       "    </tr>\n",
       "  </thead>\n",
       "  <tbody>\n",
       "    <tr>\n",
       "      <th>0</th>\n",
       "      <td>2019-01-01</td>\n",
       "      <td>CO</td>\n",
       "      <td>0.0</td>\n",
       "      <td>0.0</td>\n",
       "    </tr>\n",
       "    <tr>\n",
       "      <th>1</th>\n",
       "      <td>2019-01-01</td>\n",
       "      <td>CS</td>\n",
       "      <td>0.0</td>\n",
       "      <td>0.0</td>\n",
       "    </tr>\n",
       "    <tr>\n",
       "      <th>2</th>\n",
       "      <td>2019-01-01</td>\n",
       "      <td>CT</td>\n",
       "      <td>0.0</td>\n",
       "      <td>0.0</td>\n",
       "    </tr>\n",
       "    <tr>\n",
       "      <th>3</th>\n",
       "      <td>2019-01-01</td>\n",
       "      <td>FIX</td>\n",
       "      <td>0.0</td>\n",
       "      <td>0.0</td>\n",
       "    </tr>\n",
       "    <tr>\n",
       "      <th>4</th>\n",
       "      <td>2019-01-01</td>\n",
       "      <td>GC</td>\n",
       "      <td>0.0</td>\n",
       "      <td>0.0</td>\n",
       "    </tr>\n",
       "  </tbody>\n",
       "</table>\n",
       "</div>"
      ],
      "text/plain": [
       "         Date Code  Rev  Res\n",
       "0  2019-01-01   CO  0.0  0.0\n",
       "1  2019-01-01   CS  0.0  0.0\n",
       "2  2019-01-01   CT  0.0  0.0\n",
       "3  2019-01-01  FIX  0.0  0.0\n",
       "4  2019-01-01   GC  0.0  0.0"
      ]
     },
     "metadata": {},
     "output_type": "display_data"
    },
    {
     "data": {
      "text/html": [
       "<div>\n",
       "<style scoped>\n",
       "    .dataframe tbody tr th:only-of-type {\n",
       "        vertical-align: middle;\n",
       "    }\n",
       "\n",
       "    .dataframe tbody tr th {\n",
       "        vertical-align: top;\n",
       "    }\n",
       "\n",
       "    .dataframe thead th {\n",
       "        text-align: right;\n",
       "    }\n",
       "</style>\n",
       "<table border=\"1\" class=\"dataframe\">\n",
       "  <thead>\n",
       "    <tr style=\"text-align: right;\">\n",
       "      <th></th>\n",
       "      <th>Date</th>\n",
       "      <th>Code</th>\n",
       "      <th>Rev</th>\n",
       "      <th>Res</th>\n",
       "    </tr>\n",
       "  </thead>\n",
       "  <tbody>\n",
       "    <tr>\n",
       "      <th>7073</th>\n",
       "      <td>2019-12-31</td>\n",
       "      <td>PK</td>\n",
       "      <td>0.00</td>\n",
       "      <td>0.0</td>\n",
       "    </tr>\n",
       "    <tr>\n",
       "      <th>7074</th>\n",
       "      <td>2019-12-31</td>\n",
       "      <td>PSBY</td>\n",
       "      <td>0.00</td>\n",
       "      <td>0.0</td>\n",
       "    </tr>\n",
       "    <tr>\n",
       "      <th>7075</th>\n",
       "      <td>2019-12-31</td>\n",
       "      <td>RA</td>\n",
       "      <td>0.00</td>\n",
       "      <td>0.0</td>\n",
       "    </tr>\n",
       "    <tr>\n",
       "      <th>7076</th>\n",
       "      <td>2019-12-31</td>\n",
       "      <td>SP</td>\n",
       "      <td>15962.89</td>\n",
       "      <td>37.0</td>\n",
       "    </tr>\n",
       "    <tr>\n",
       "      <th>7077</th>\n",
       "      <td>2019-12-31</td>\n",
       "      <td>WH</td>\n",
       "      <td>11869.52</td>\n",
       "      <td>35.0</td>\n",
       "    </tr>\n",
       "  </tbody>\n",
       "</table>\n",
       "</div>"
      ],
      "text/plain": [
       "            Date  Code       Rev   Res\n",
       "7073  2019-12-31    PK      0.00   0.0\n",
       "7074  2019-12-31  PSBY      0.00   0.0\n",
       "7075  2019-12-31    RA      0.00   0.0\n",
       "7076  2019-12-31    SP  15962.89  37.0\n",
       "7077  2019-12-31    WH  11869.52  35.0"
      ]
     },
     "metadata": {},
     "output_type": "display_data"
    },
    {
     "data": {
      "text/plain": [
       "365"
      ]
     },
     "metadata": {},
     "output_type": "display_data"
    },
    {
     "data": {
      "text/plain": [
       "2019-08-26    38\n",
       "2019-08-18    38\n",
       "2019-08-15    38\n",
       "2019-08-30    38\n",
       "2019-08-21    38\n",
       "2019-08-29    38\n",
       "2019-08-19    38\n",
       "2019-08-31    38\n",
       "2019-08-12    38\n",
       "2019-08-24    38\n",
       "2019-08-13    38\n",
       "2019-08-27    38\n",
       "2019-08-28    38\n",
       "2019-08-25    38\n",
       "2019-08-14    38\n",
       "2019-08-23    38\n",
       "2019-08-22    38\n",
       "2019-08-20    38\n",
       "2019-08-17    38\n",
       "2019-08-16    38\n",
       "2019-08-03    36\n",
       "2019-08-01    36\n",
       "2019-08-07    36\n",
       "2019-08-09    36\n",
       "2019-08-10    36\n",
       "2019-08-11    36\n",
       "2019-08-02    36\n",
       "2019-08-06    36\n",
       "2019-08-04    36\n",
       "2019-08-05    36\n",
       "              ..\n",
       "2019-01-25    17\n",
       "2019-07-20    17\n",
       "2019-06-01    17\n",
       "2019-01-16    17\n",
       "2019-05-23    17\n",
       "2019-06-13    17\n",
       "2019-05-27    17\n",
       "2019-03-03    17\n",
       "2019-01-17    17\n",
       "2019-03-14    17\n",
       "2019-06-29    17\n",
       "2019-02-23    17\n",
       "2019-01-29    17\n",
       "2019-03-19    17\n",
       "2019-02-03    17\n",
       "2019-01-22    17\n",
       "2019-07-22    17\n",
       "2019-05-03    17\n",
       "2019-04-03    17\n",
       "2019-01-19    17\n",
       "2019-06-16    17\n",
       "2019-05-20    17\n",
       "2019-02-28    17\n",
       "2019-05-09    17\n",
       "2019-06-17    17\n",
       "2019-01-02    17\n",
       "2019-02-04    17\n",
       "2019-07-11    17\n",
       "2019-02-12    17\n",
       "2019-05-22    17\n",
       "Name: Date, Length: 365, dtype: int64"
      ]
     },
     "execution_count": 102,
     "metadata": {},
     "output_type": "execute_result"
    }
   ],
   "source": [
    "display(nine.head())\n",
    "display(nine.tail())\n",
    "display(nine.Date.nunique())\n",
    "nine.Date.value_counts()"
   ]
  },
  {
   "cell_type": "markdown",
   "metadata": {},
   "source": [
    "## Importing sublime"
   ]
  },
  {
   "cell_type": "code",
   "execution_count": 40,
   "metadata": {
    "ExecuteTime": {
     "end_time": "2020-11-27T13:07:51.145867Z",
     "start_time": "2020-11-27T13:07:51.120430Z"
    }
   },
   "outputs": [
    {
     "name": "stdout",
     "output_type": "stream",
     "text": [
      "The autoreload extension is already loaded. To reload it, use:\n",
      "  %reload_ext autoreload\n"
     ]
    }
   ],
   "source": [
    "%load_ext autoreload\n",
    "%autoreload 2\n",
    "from revreports.lib import convert_seg_stat, convert_seg_res"
   ]
  },
  {
   "cell_type": "code",
   "execution_count": 21,
   "metadata": {
    "ExecuteTime": {
     "end_time": "2020-11-27T12:25:11.155981Z",
     "start_time": "2020-11-27T12:25:11.132335Z"
    }
   },
   "outputs": [],
   "source": [
    "import datetime"
   ]
  },
  {
   "cell_type": "code",
   "execution_count": 42,
   "metadata": {
    "ExecuteTime": {
     "end_time": "2020-11-27T13:08:21.187127Z",
     "start_time": "2020-11-27T13:08:20.480629Z"
    }
   },
   "outputs": [],
   "source": [
    "convert_seg_res('11-26-20')"
   ]
  },
  {
   "cell_type": "code",
   "execution_count": 29,
   "metadata": {
    "ExecuteTime": {
     "end_time": "2020-11-27T12:26:32.980787Z",
     "start_time": "2020-11-27T12:26:32.956561Z"
    }
   },
   "outputs": [],
   "source": [
    "x = datetime.datetime.today().strftime('%m-%d-%y')"
   ]
  },
  {
   "cell_type": "code",
   "execution_count": 30,
   "metadata": {
    "ExecuteTime": {
     "end_time": "2020-11-27T12:26:33.566785Z",
     "start_time": "2020-11-27T12:26:33.541917Z"
    }
   },
   "outputs": [
    {
     "data": {
      "text/plain": [
       "'11-27-20'"
      ]
     },
     "execution_count": 30,
     "metadata": {},
     "output_type": "execute_result"
    }
   ],
   "source": [
    "x"
   ]
  },
  {
   "cell_type": "code",
   "execution_count": 39,
   "metadata": {
    "ExecuteTime": {
     "end_time": "2020-11-27T12:37:39.177728Z",
     "start_time": "2020-11-27T12:37:39.143798Z"
    }
   },
   "outputs": [],
   "source": [
    "df = convert_seg_stat()"
   ]
  },
  {
   "cell_type": "code",
   "execution_count": 37,
   "metadata": {
    "ExecuteTime": {
     "end_time": "2020-11-27T12:36:08.511749Z",
     "start_time": "2020-11-27T12:36:08.478722Z"
    }
   },
   "outputs": [
    {
     "data": {
      "text/html": [
       "<div>\n",
       "<style scoped>\n",
       "    .dataframe tbody tr th:only-of-type {\n",
       "        vertical-align: middle;\n",
       "    }\n",
       "\n",
       "    .dataframe tbody tr th {\n",
       "        vertical-align: top;\n",
       "    }\n",
       "\n",
       "    .dataframe thead th {\n",
       "        text-align: right;\n",
       "    }\n",
       "</style>\n",
       "<table border=\"1\" class=\"dataframe\">\n",
       "  <thead>\n",
       "    <tr style=\"text-align: right;\">\n",
       "      <th></th>\n",
       "      <th>Date</th>\n",
       "      <th>Code</th>\n",
       "      <th>Rev</th>\n",
       "      <th>Res</th>\n",
       "    </tr>\n",
       "  </thead>\n",
       "  <tbody>\n",
       "    <tr>\n",
       "      <th>15</th>\n",
       "      <td>2020-11-25</td>\n",
       "      <td>PK</td>\n",
       "      <td>0</td>\n",
       "      <td>0</td>\n",
       "    </tr>\n",
       "    <tr>\n",
       "      <th>16</th>\n",
       "      <td>2020-11-25</td>\n",
       "      <td>PSBY</td>\n",
       "      <td>0</td>\n",
       "      <td>0</td>\n",
       "    </tr>\n",
       "    <tr>\n",
       "      <th>17</th>\n",
       "      <td>2020-11-25</td>\n",
       "      <td>RA</td>\n",
       "      <td>397</td>\n",
       "      <td>3</td>\n",
       "    </tr>\n",
       "    <tr>\n",
       "      <th>18</th>\n",
       "      <td>2020-11-25</td>\n",
       "      <td>SP</td>\n",
       "      <td>3973</td>\n",
       "      <td>38</td>\n",
       "    </tr>\n",
       "    <tr>\n",
       "      <th>19</th>\n",
       "      <td>2020-11-25</td>\n",
       "      <td>WH</td>\n",
       "      <td>65</td>\n",
       "      <td>1</td>\n",
       "    </tr>\n",
       "  </tbody>\n",
       "</table>\n",
       "</div>"
      ],
      "text/plain": [
       "         Date  Code   Rev  Res\n",
       "15 2020-11-25    PK     0    0\n",
       "16 2020-11-25  PSBY     0    0\n",
       "17 2020-11-25    RA   397    3\n",
       "18 2020-11-25    SP  3973   38\n",
       "19 2020-11-25    WH    65    1"
      ]
     },
     "execution_count": 37,
     "metadata": {},
     "output_type": "execute_result"
    }
   ],
   "source": [
    "df.tail()"
   ]
  },
  {
   "cell_type": "code",
   "execution_count": 14,
   "metadata": {
    "ExecuteTime": {
     "end_time": "2020-11-27T12:15:13.891349Z",
     "start_time": "2020-11-27T12:15:13.831411Z"
    }
   },
   "outputs": [],
   "source": [
    "df['Date'] = df['Date'] - pd.DateOffset(1)"
   ]
  },
  {
   "cell_type": "code",
   "execution_count": 15,
   "metadata": {
    "ExecuteTime": {
     "end_time": "2020-11-27T12:15:14.549277Z",
     "start_time": "2020-11-27T12:15:14.519531Z"
    }
   },
   "outputs": [
    {
     "data": {
      "text/html": [
       "<div>\n",
       "<style scoped>\n",
       "    .dataframe tbody tr th:only-of-type {\n",
       "        vertical-align: middle;\n",
       "    }\n",
       "\n",
       "    .dataframe tbody tr th {\n",
       "        vertical-align: top;\n",
       "    }\n",
       "\n",
       "    .dataframe thead th {\n",
       "        text-align: right;\n",
       "    }\n",
       "</style>\n",
       "<table border=\"1\" class=\"dataframe\">\n",
       "  <thead>\n",
       "    <tr style=\"text-align: right;\">\n",
       "      <th></th>\n",
       "      <th>Date</th>\n",
       "      <th>Code</th>\n",
       "      <th>Rev</th>\n",
       "      <th>Res</th>\n",
       "    </tr>\n",
       "  </thead>\n",
       "  <tbody>\n",
       "    <tr>\n",
       "      <th>0</th>\n",
       "      <td>2020-11-25</td>\n",
       "      <td>AR</td>\n",
       "      <td>0</td>\n",
       "      <td>0</td>\n",
       "    </tr>\n",
       "    <tr>\n",
       "      <th>1</th>\n",
       "      <td>2020-11-25</td>\n",
       "      <td>CO</td>\n",
       "      <td>0</td>\n",
       "      <td>0</td>\n",
       "    </tr>\n",
       "    <tr>\n",
       "      <th>2</th>\n",
       "      <td>2020-11-25</td>\n",
       "      <td>CS</td>\n",
       "      <td>0</td>\n",
       "      <td>0</td>\n",
       "    </tr>\n",
       "    <tr>\n",
       "      <th>3</th>\n",
       "      <td>2020-11-25</td>\n",
       "      <td>CT</td>\n",
       "      <td>0</td>\n",
       "      <td>0</td>\n",
       "    </tr>\n",
       "    <tr>\n",
       "      <th>4</th>\n",
       "      <td>2020-11-25</td>\n",
       "      <td>FIX</td>\n",
       "      <td>0</td>\n",
       "      <td>0</td>\n",
       "    </tr>\n",
       "  </tbody>\n",
       "</table>\n",
       "</div>"
      ],
      "text/plain": [
       "        Date Code  Rev  Res\n",
       "0 2020-11-25   AR    0    0\n",
       "1 2020-11-25   CO    0    0\n",
       "2 2020-11-25   CS    0    0\n",
       "3 2020-11-25   CT    0    0\n",
       "4 2020-11-25  FIX    0    0"
      ]
     },
     "execution_count": 15,
     "metadata": {},
     "output_type": "execute_result"
    }
   ],
   "source": [
    "df.head()"
   ]
  },
  {
   "cell_type": "code",
   "execution_count": null,
   "metadata": {},
   "outputs": [],
   "source": []
  }
 ],
 "metadata": {
  "kernelspec": {
   "display_name": "Python 3",
   "language": "python",
   "name": "python3"
  },
  "language_info": {
   "codemirror_mode": {
    "name": "ipython",
    "version": 3
   },
   "file_extension": ".py",
   "mimetype": "text/x-python",
   "name": "python",
   "nbconvert_exporter": "python",
   "pygments_lexer": "ipython3",
   "version": "3.7.7"
  },
  "toc": {
   "base_numbering": 1,
   "nav_menu": {},
   "number_sections": true,
   "sideBar": true,
   "skip_h1_title": false,
   "title_cell": "Table of Contents",
   "title_sidebar": "Contents",
   "toc_cell": false,
   "toc_position": {},
   "toc_section_display": true,
   "toc_window_display": false
  },
  "varInspector": {
   "cols": {
    "lenName": 16,
    "lenType": 16,
    "lenVar": 40
   },
   "kernels_config": {
    "python": {
     "delete_cmd_postfix": "",
     "delete_cmd_prefix": "del ",
     "library": "var_list.py",
     "varRefreshCmd": "print(var_dic_list())"
    },
    "r": {
     "delete_cmd_postfix": ") ",
     "delete_cmd_prefix": "rm(",
     "library": "var_list.r",
     "varRefreshCmd": "cat(var_dic_list()) "
    }
   },
   "types_to_exclude": [
    "module",
    "function",
    "builtin_function_or_method",
    "instance",
    "_Feature"
   ],
   "window_display": false
  }
 },
 "nbformat": 4,
 "nbformat_minor": 4
}
